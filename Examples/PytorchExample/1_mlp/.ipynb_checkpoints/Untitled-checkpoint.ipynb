{
 "cells": [
  {
   "cell_type": "code",
   "execution_count": 3,
   "metadata": {},
   "outputs": [],
   "source": [
    "import os\n",
    "import numpy as np\n",
    "import torch\n",
    "import torch.nn as nn\n",
    "import torch.nn.functional as F"
   ]
  },
  {
   "cell_type": "code",
   "execution_count": 6,
   "metadata": {},
   "outputs": [
    {
     "name": "stdout",
     "output_type": "stream",
     "text": [
      "tensor([[0.6115],\n",
      "        [0.7054]], requires_grad=True)\n",
      "X Grad tensor([[1.2230],\n",
      "        [2.8967]])\n"
     ]
    },
    {
     "data": {
      "text/plain": [
       "(tensor([1.2230], grad_fn=<MulBackward0>),\n",
       " tensor([2.8967], grad_fn=<AddBackward0>))"
      ]
     },
     "execution_count": 6,
     "metadata": {},
     "output_type": "execute_result"
    }
   ],
   "source": [
    "x = torch.rand((2, 1), requires_grad = True)\n",
    "print(x)\n",
    "\n",
    "y = torch.zeros((3, 1), requires_grad=False)\n",
    "y[0] = x[0]**2\n",
    "y[1] = x[1]**3\n",
    "y[2] = x[1]**4\n",
    "y.backward(gradient=torch.ones(y.size()))\n",
    "\n",
    "print(\"X Grad\",x.grad)\n"
   ]
  },
  {
   "cell_type": "code",
   "execution_count": null,
   "metadata": {},
   "outputs": [],
   "source": []
  }
 ],
 "metadata": {
  "kernelspec": {
   "display_name": "Python 3",
   "language": "python",
   "name": "python3"
  },
  "language_info": {
   "codemirror_mode": {
    "name": "ipython",
    "version": 3
   },
   "file_extension": ".py",
   "mimetype": "text/x-python",
   "name": "python",
   "nbconvert_exporter": "python",
   "pygments_lexer": "ipython3",
   "version": "3.6.7"
  }
 },
 "nbformat": 4,
 "nbformat_minor": 2
}
