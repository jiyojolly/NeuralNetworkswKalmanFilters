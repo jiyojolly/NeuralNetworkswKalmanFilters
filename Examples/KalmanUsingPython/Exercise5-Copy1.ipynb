{
 "cells": [
  {
   "cell_type": "markdown",
   "metadata": {},
   "source": [
    "ELEC-E8105 \n",
    "\n",
    "Non-linear filtering and parameter estimation Spring 2019\n",
    "\n",
    "Erkka Tahvanainen\n",
    "\n",
    "K80343\n",
    "\n",
    "Exercise round 5"
   ]
  },
  {
   "cell_type": "markdown",
   "metadata": {},
   "source": [
    "# Exercise 1. (Sigma-point Methods and Linear Functions)"
   ]
  },
  {
   "cell_type": "markdown",
   "metadata": {},
   "source": [
    "Show that when the function is linear, both the unscented transform and the\n",
    "spherical cubature rule give the exact result."
   ]
  },
  {
   "cell_type": "markdown",
   "metadata": {},
   "source": [
    "### Unscented Transform"
   ]
  },
  {
   "cell_type": "markdown",
   "metadata": {},
   "source": [
    "$w^{(i)}$ have been chosen such that original mean and variance can be recovered\n",
    "\n",
    "$$\\mu = \\sum_{i} w^{(i)} \\chi^{(i)}$$\n",
    "\n",
    "$$\\Sigma^ = \\sum_{i} w^{(i)}(\\chi^{(i)}-\\mu)(\\chi^{(i)}-\\mu)^T$$"
   ]
  },
  {
   "cell_type": "markdown",
   "metadata": {},
   "source": [
    "$$ \\chi^{(0)} = m $$\n",
    "$$ \\chi^{(i)} = m + \\sqrt{n +\\lambda}[\\sqrt{P}]_{i}$$\n",
    "\n",
    "$$ \\chi^{(i+n)} = m -\\sqrt{n +\\lambda}[\\sqrt{P}]_{i}$$"
   ]
  },
  {
   "cell_type": "markdown",
   "metadata": {},
   "source": [
    "Transformation $y = g(x) = Ax$"
   ]
  },
  {
   "cell_type": "markdown",
   "metadata": {},
   "source": [
    "Approximations\n",
    "$$\\mu_y = \\sum_{i} w^{(i)} g(\\chi^{(i)})$$\n",
    "\n",
    "$$\\Sigma_{y} = \\sum_{i} w^{(i)}(g(\\chi^{(i)})-\\mu_y)(g(\\chi^{(i)})-\\mu_y)^T$$"
   ]
  },
  {
   "cell_type": "markdown",
   "metadata": {},
   "source": [
    "$$\\mu_y = \\sum_{i} w^{(i)} g(\\chi^{(i)}) = \\sum_{i} w^{(i)} A \\chi^{(i)} = A \\sum_{i} w^{(i)}\\chi^{(i)} = A \\mu$$"
   ]
  },
  {
   "cell_type": "markdown",
   "metadata": {},
   "source": [
    "\n",
    "\n",
    "$$\\Sigma_{y} = \\sum_{i} w^{(i)}(g(\\chi^{(i)})-\\mu_y)(g(\\chi^{(i)})-\\mu_y)^T = \\sum_{i} w^{(i)}(A \\chi^{(i)}-A \\mu)(A \\chi^{(i)}-A\\mu)^T$$\n",
    "\n",
    "$$  = \\sum_{i} w^{(i)}A(\\chi^{(i)}-\\mu)(\\chi^{(i)}-\\mu)^TA^T = A\\sum_{i} w^{(i)}(\\chi^{(i)}-\\mu)(\\chi^{(i)}-\\mu)^TA^T = A\\Sigma A^T$$"
   ]
  },
  {
   "cell_type": "markdown",
   "metadata": {},
   "source": [
    "### Spherical cubature"
   ]
  },
  {
   "cell_type": "markdown",
   "metadata": {},
   "source": [
    "$$ \\xi^{(i)}  =  \\begin{cases} \n",
    "      \\sqrt{n}e_i & i = 1,...,n \\\\\n",
    "      -\\sqrt{n}e_{i-n} & i=n+1,....,2n \n",
    "   \\end{cases}$$ where $e_i$ is unit vector pointing direction of axis i."
   ]
  },
  {
   "cell_type": "markdown",
   "metadata": {},
   "source": [
    "$$ \\int g(x) N(x|m,P)dx = \\int g(m + \\sqrt{P} \\xi) N(\\xi|0,I)d\\xi \\approx \\frac{1}{2n} \\sum_{i=1}^{2n} g(m+\\sqrt{P}\\xi^{(i)})$$"
   ]
  },
  {
   "cell_type": "markdown",
   "metadata": {},
   "source": [
    "$$\\frac{1}{2n} \\sum_{i=1}^{2n} g(m+\\sqrt{P}\\xi^{(i)}) = \\frac{1}{2n} \\sum_{i=1}^{2n} (Am+A\\sqrt{P}\\xi^{(i)}) = \\frac{1}{2n} (Am*2n + \\sum_{i=1}^{2n} A\\sqrt{P}\\xi^{(i)}) = Am + \\frac{1}{2n}\\sum_{i=1}^{2n} A\\sqrt{P}\\xi^{(i)} = Am$$"
   ]
  },
  {
   "cell_type": "markdown",
   "metadata": {},
   "source": [
    "$$ \\int g(x) N(x|m,P)dx = \\int g(m + \\sqrt{P} \\xi) N(\\xi|0,I)d\\xi  = \\int (Am + A\\sqrt{P} \\xi) N(\\xi|0,I)d\\xi$$"
   ]
  },
  {
   "cell_type": "markdown",
   "metadata": {},
   "source": [
    "$$ = Am \\int N(\\xi|0,I)d\\xi + A\\sqrt{P}\\int \\xi N(\\xi|0,I)d\\xi  = Am + A\\sqrt{P}\\int \\xi N(\\xi|0,I)d\\xi = Am + A\\sqrt{P} E[\\xi]   = Am$$"
   ]
  },
  {
   "cell_type": "markdown",
   "metadata": {},
   "source": [
    "# Exercise 2. (Unscented Kalman filter)"
   ]
  },
  {
   "cell_type": "markdown",
   "metadata": {},
   "source": [
    "Consider the following non-linear state space model\n",
    "\n",
    "$$ x_k = x_{k-1} - 0.01 sin (x_{k-1}) + q_{k_1}$$\n",
    "\n",
    "$$y_k = 0.5 sin (2x_k) + r_k$$\n",
    "\n",
    "where $q_{k-1}$ has variance $0.01^2$ and $r_k$ has variance $0.02$.\n"
   ]
  },
  {
   "cell_type": "markdown",
   "metadata": {},
   "source": [
    "Derive and implement UKF to the model in Exercise 1 of Round 4, that\n",
    "is, to the same problem where you implemented EKF. Implement the UKF\n",
    "equations yourself, i.e., do not use the EKF/UKF toolbox or similar."
   ]
  },
  {
   "cell_type": "code",
   "execution_count": null,
   "metadata": {},
   "outputs": [],
   "source": [
    "import numpy as np\n",
    "import math\n",
    "from sklearn.metrics import mean_squared_error"
   ]
  },
  {
   "cell_type": "code",
   "execution_count": null,
   "metadata": {},
   "outputs": [],
   "source": [
    "def f(x):\n",
    "    return x -0.01*math.sin(x)\n",
    "def h(x):\n",
    "    return 0.5*math.sin(2*x)\n",
    "    "
   ]
  },
  {
   "cell_type": "code",
   "execution_count": null,
   "metadata": {},
   "outputs": [],
   "source": [
    "def df(x):\n",
    "    return 1-0.01*math.cos(x)\n",
    "def dh(x):\n",
    "    return math.cos(2*x)"
   ]
  },
  {
   "cell_type": "code",
   "execution_count": null,
   "metadata": {},
   "outputs": [],
   "source": [
    "import scipy.io as sio\n",
    "from filterpy.kalman import UnscentedKalmanFilter,ExtendedKalmanFilter,MerweScaledSigmaPoints\n",
    "import numpy as np\n",
    "from sklearn.metrics import mean_squared_error\n",
    "import matplotlib.pyplot as plt\n",
    "from numpy.random import normal\n",
    "import seaborn as sns\n",
    "from scipy.linalg import cholesky\n",
    "%matplotlib notebook"
   ]
  },
  {
   "cell_type": "code",
   "execution_count": null,
   "metadata": {},
   "outputs": [],
   "source": [
    "np.random.seed(123)\n",
    "n = 100\n",
    "q_sd = 0.01\n",
    "#I assume here that in exercise there was mistake as sqrt(0.02)=0.14 which is very high...\n",
    "r_sd = 0.02\n",
    "x_meas = np.zeros(n)\n",
    "y_meas = np.zeros(n)\n",
    "x_true = np.zeros(n)\n",
    "y_true = np.zeros(n)\n",
    "x_true[0] = 0\n",
    "y_true[0] = h(x_true[0])\n",
    "for j in range(1,n):\n",
    "    x_meas[j] = f(x_true[j-1]) + normal(0,q_sd)\n",
    "    y_true[j] = h(x_meas[j])\n",
    "    #I assume here that \n",
    "    y_meas[j] = y_true[j] + normal(0,r_sd)"
   ]
  },
  {
   "cell_type": "markdown",
   "metadata": {},
   "source": [
    "# Unscented Kalman filter"
   ]
  },
  {
   "cell_type": "code",
   "execution_count": null,
   "metadata": {
    "scrolled": false
   },
   "outputs": [],
   "source": [
    "#EKF for reference\n",
    "\n",
    "EKF_EST = np.zeros(len(y_meas))\n",
    "mk = np.array([f(0)])\n",
    "Pk = np.array([0.01**2])\n",
    "for k in range(n):\n",
    "    #Prediction\n",
    "    mk_ =  np.array([[f(mk)]])\n",
    "    F = np.array([[df(mk)]])\n",
    "    Pk_ = F @ np.array([Pk])@ F.T + q_sd**2\n",
    "    #Update\n",
    "    v_k = np.array([[y_meas[k] - h(mk_)]])\n",
    "    H = np.array([[dh(mk_)]])\n",
    "    S_k = H@Pk_@H.T + r_sd**2\n",
    "    K_k = Pk_@H.T @ np.linalg.inv(S_k)\n",
    "    mk = (mk_ + K_k @ v_k).flatten()\n",
    "    Pk = (Pk_ - K_k @S_k@K_k).flatten()\n",
    "    EKF_EST[k] = mk"
   ]
  },
  {
   "cell_type": "code",
   "execution_count": null,
   "metadata": {
    "scrolled": false
   },
   "outputs": [],
   "source": [
    "def fx(x, dt):\n",
    "    return np.array([f(x)])\n",
    "def hx(x):\n",
    "# measurement function - convert state into a measurement\n",
    "# where measurements are [x_pos, y_pos]\n",
    "    return np.array([h(x)])\n",
    "\n",
    "dt = 0.1\n",
    "# create sigma points to use in the filter. This is standard for Gaussian processes\n",
    "points = MerweScaledSigmaPoints(1, alpha=1, beta=0, kappa=0)\n",
    "kf = UnscentedKalmanFilter(dim_x=1, dim_z=1, dt=dt, fx=fx, hx=hx, points=points)\n",
    "kf.x = np.array([0])# initial state\n",
    "kf.P *= q_sd**2 # initial uncertainty\n",
    "kf.R = np.diag([r_sd**2]) # 1 standard\n",
    "kf.Q = np.array([q_sd**2])\n",
    "UKF_EST = np.zeros(len(y_meas))\n",
    "\n",
    "for idx, z in enumerate(y_meas):\n",
    "    kf.predict()\n",
    "    kf.update(z)\n",
    "    UKF_EST[idx] = kf.x\n",
    "#    print(kf.x, 'log-likelihood', kf.log_likelihood)"
   ]
  },
  {
   "cell_type": "code",
   "execution_count": null,
   "metadata": {
    "scrolled": false
   },
   "outputs": [],
   "source": [
    "t = np.linspace(1,len(y_meas),len(y_meas))\n",
    "plt.figure(figsize=(20,10))\n",
    "plt.suptitle(\"Trajectories and EKF estimates\")\n",
    "plt.plot(t,y_true,label = \"True signal\",linestyle='--',color='b',alpha=0.5)\n",
    "plt.scatter(t,y_meas, \n",
    "                 label = \"Baseline RMSE ={:0.5f}\".format(np.sqrt(mean_squared_error(y_true,y_meas))),\n",
    "                   s=80, facecolors='none', edgecolors='r',alpha=0.5)\n",
    "plt.plot(t,EKF_EST, \n",
    "                 label = \"EKF estimate RMSE ={:0.5f}\".format(np.sqrt(mean_squared_error(y_true,EKF_EST)))\n",
    "                ,linestyle='-',color='r',alpha=0.5)\n",
    "plt.plot(t,UKF_EST, \n",
    "                 label = \"UKF estimate RMSE ={:0.5f}\".format(np.sqrt(mean_squared_error(y_true,UKF_EST)))\n",
    "                ,linestyle='-',color='g',alpha=0.5)\n",
    "plt.legend()\n",
    "plt.show()"
   ]
  },
  {
   "cell_type": "code",
   "execution_count": null,
   "metadata": {},
   "outputs": [],
   "source": [
    "# Precompute the UT weights\n",
    "n = 1;\n",
    "alpha = 1;\n",
    "beta = 0;\n",
    "#   kappa = 3-n;\n",
    "kappa = 0;\n",
    "\n",
    "lambda_ = alpha**2 * (n + kappa) - n;        \n",
    "WM = np.zeros(2*n+1);\n",
    "WC = np.zeros(2*n+1);\n",
    "for j in range(0,2*n+1):\n",
    "    if j==0:\n",
    "        wm = lambda_ / (n + lambda_);\n",
    "        wc = lambda_ / (n + lambda_) + (1 - alpha**2 + beta);\n",
    "    else:\n",
    "        wm = 1 / (2 * (n + lambda_));\n",
    "        wc = wm;\n",
    "    \n",
    "    WM[j] = wm;\n",
    "    WC[j] = wc;\n"
   ]
  },
  {
   "cell_type": "code",
   "execution_count": null,
   "metadata": {},
   "outputs": [],
   "source": [
    "m = f(0)\n",
    "P = 0.01**2"
   ]
  },
  {
   "cell_type": "code",
   "execution_count": null,
   "metadata": {},
   "outputs": [],
   "source": [
    "Ms = []\n",
    "Ps = []\n",
    "multipliers = [np.sqrt(n+lambda_) for i in range(0,n)]+[-np.sqrt(n+lambda_) for i in range(0,n)]\n",
    "for inx,val in enumerate(y_meas):\n",
    "    A = np.sqrt(P)\n",
    "    sigma_points = np.zeros(len(WM))\n",
    "    sigma_y = np.zeros(len(WM))\n",
    "    sigma_f = np.zeros(len(WM))\n",
    "    #calculate sigma points around m with f\n",
    "    sigma_points[0] = m\n",
    "    sigma_f[0] = h(sigma_points[0])\n",
    "    for i in range(1,len(sigma_points)):\n",
    "        sigma_points[i] = m + multipliers[i-1]*A #A is scalar\n",
    "        sigma_f[i] = f(sigma_points[i])\n",
    "    mk_ = 0\n",
    "    Pk_ = 0\n",
    "    \n",
    "    #prediction step\n",
    "    for i in range(len(sigma_points)):\n",
    "        mk_ = mk_ + WM[i]*sigma_f[i]\n",
    "    for i in range(len(sigma_points)):\n",
    "        Pk_ = Pk_ + WC[i] * (sigma_f[i]  - mk_) * (sigma_f[i] - mk_) + q_sd**2\n",
    "        \n",
    "    #update step\n",
    "    A = np.sqrt(Pk_)\n",
    "    \n",
    "    #calculate sigma points around mk_ with h\n",
    "    sigma_points[0] = mk_\n",
    "    sigma_y[0] = h(sigma_points[0])\n",
    "    for i in range(1,len(sigma_points)):\n",
    "            sigma_points[i] = mk_ + multipliers[i-1]*A #A is scalar\n",
    "            sigma_y[i] = h(sigma_points[i])\n",
    "    \n",
    "    mu_k = 0\n",
    "    S_k = 0\n",
    "    C_k  = 0\n",
    "    for i in range(len(sigma_points)):\n",
    "        mu_k = mu_k + WM[i]*sigma_y[i]\n",
    "    for i in range(len(sigma_points)):\n",
    "        S_k = S_k + WC[i] * (sigma_y[i]  - mu_k) * (sigma_y[i] - mu_k) + r_sd**2\n",
    "        C_k = C_k + WC[i]* (sigma_points[i]  - mk_) * (sigma_y[i] - mu_k) \n",
    "    K_k = C_k/S_k\n",
    "    m = mk_ + K_k*(val - mu_k)\n",
    "    P = Pk_ - K_k*S_k*K_k\n",
    "    Ms.append(m)\n",
    "    Ps.append(P)"
   ]
  },
  {
   "cell_type": "code",
   "execution_count": null,
   "metadata": {
    "scrolled": false
   },
   "outputs": [],
   "source": [
    "plt.figure(figsize=(20,10))\n",
    "plt.suptitle(\"Trajectories and EKF estimates\")\n",
    "plt.plot(t,y_true,label = \"True signal\",linestyle='--',color='b',alpha=0.5)\n",
    "plt.scatter(t,y_meas, \n",
    "                 label = \"Baseline RMSE ={:0.5f}\".format(np.sqrt(mean_squared_error(y_true,y_meas))),\n",
    "                   s=80, facecolors='none', edgecolors='r',alpha=0.5)\n",
    "plt.plot(t,Ms, \n",
    "                 label = \"UKF estimate RMSE ={:0.5f}\".format(np.sqrt(mean_squared_error(y_true,Ms)))\n",
    "                ,linestyle='-',color='r',alpha=0.5)\n",
    "plt.legend()\n",
    "plt.show()"
   ]
  },
  {
   "cell_type": "markdown",
   "metadata": {},
   "source": [
    "# Exercise 3. (Bearings Only Target Tracking with CKF and UKF)"
   ]
  },
  {
   "cell_type": "markdown",
   "metadata": {},
   "source": [
    "The state of the target at time step $k$ consist of the position $(x_k, y_k)$ and the\n",
    "velocity $(\\dot x_k,\\dot y_k)$. The dynamics of the state vector $x_k = (x_k, y_k, \\dot x_k, \\dot y_k)^T$ are\n",
    "modeled with the discretized Wiener velocity model:"
   ]
  },
  {
   "cell_type": "markdown",
   "metadata": {},
   "source": [
    "$$  \\begin{pmatrix}\n",
    "  x_k  \\\\\n",
    "  y_k \\\\\n",
    " \\dot x_k\\\\\n",
    " \\dot y_k \\\\\n",
    "  \\end{pmatrix} = \\begin{pmatrix} \n",
    " 1 & 0 & \\Delta t & 0 \\\\\n",
    " 0 & 1 & 0 & \\Delta t \\\\\n",
    " 0 & 0 & 1 & 0 \\\\\n",
    " 0 & 0 & 0 & 1 \n",
    "  \\end{pmatrix}\\begin{pmatrix}\n",
    "  x_{k-1}  \\\\\n",
    "  y_{k-1} \\\\\n",
    " \\dot x_{k-1}\\\\\n",
    " \\dot y_{k-1}\n",
    "  \\end{pmatrix} + q_{k-1}$$"
   ]
  },
  {
   "cell_type": "markdown",
   "metadata": {},
   "source": [
    "where $q_k$ is a zero mean Gaussian process noise with covariance\n",
    "\n",
    "$$Q = \\begin{pmatrix} \n",
    " q_1^c \\Delta t^3/3 & 0 & q_1^c\\Delta t^2/2 & 0 \\\\\n",
    " 0 & q_2^c \\Delta t^3/3 & 0 & q_2^c \\Delta t^2 /2\\\\\n",
    " q_1^c \\Delta t^2/2 & 0 & q_1^c \\Delta t & 0 \\\\\n",
    " 0 & q_2^c \\Delta t^2/2 & 0 & q_2^c \\Delta t \n",
    "  \\end{pmatrix}$$\n",
    "  \n",
    "  \n",
    "In this scenario the diffusion coefficients are $q_c^1 = q_c^2 = 0.1$ and the sampling period is $\\Delta t = 0.1$. The measurement model for sensor $i \\in \\{1, 2\\}$ is the following:\n",
    "\n",
    "$$\\theta_k^i = tan^{-1} \\big(\\frac{y_k - s_y^i}{x_k - s_x^i}\\big) +r_k$$\n",
    "\n",
    "where $(s_x^i,s_y^i)$ is the position of the sensor $i$ and $r_k \\sim N(0, \\sigma^2)$ is a Gaussian\n",
    "measurement noise with standard deviation of $\\sigma = 0.05$ radians. At each sampling time, which occurs 10 times per second (i.e., $\\Delta t = 0.1$), both of the two sensors produce a measurement.\n",
    "\n",
    "In the file angle_ex.m (in MyCourses) there is a baseline solution, which\n",
    "computes estimates of the position from the crossing of the measurements\n",
    "and estimates the velocity to be always zero. Your task is to implement an\n",
    "EKF for the problem and compare the results graphically and in RMSE\n",
    "sense."
   ]
  },
  {
   "cell_type": "code",
   "execution_count": null,
   "metadata": {},
   "outputs": [],
   "source": [
    "#load simulated data.\n",
    "Theta = sio.loadmat('Theta.mat')['Theta']\n",
    "Theta = Theta.swapaxes(0,1)\n",
    "X = sio.loadmat('X.mat')['X']\n",
    "X = X.swapaxes(0,1)"
   ]
  },
  {
   "cell_type": "code",
   "execution_count": null,
   "metadata": {},
   "outputs": [],
   "source": [
    "steps = Theta.shape[0]\n",
    "x0 = np.array([[0],[0],[1],[0]])\n",
    "S1 = np.array([[-1.5],[0.5]])# Position of sensor 1\n",
    "S2 = np.array([[1],[1]])      # Position of sensor 2\n"
   ]
  },
  {
   "cell_type": "code",
   "execution_count": null,
   "metadata": {},
   "outputs": [],
   "source": [
    "qc = 0.1\n",
    "dt = 0.01\n",
    "sd = 0.05;\n",
    "#This is the transition matrix\n",
    "A = np.array([[1,0,dt,0],\n",
    "             [0,1,0,dt],\n",
    "             [0,0,1,0],\n",
    "             [0,0,0,1]])\n",
    "#This is the process noise covariance\n",
    "Q = np.array([[qc*dt**3/3,0, qc*dt**2/2, 0],\n",
    "       [0, qc*dt**3/3, 0, qc*dt**2/2],\n",
    "       [qc*dt**2/2, 0, qc*dt, 0],\n",
    "       [0, qc*dt**2/2, 0, qc*dt]])"
   ]
  },
  {
   "cell_type": "code",
   "execution_count": null,
   "metadata": {
    "scrolled": false
   },
   "outputs": [],
   "source": [
    "# Initialize to true value\n",
    "m1 = x0\n",
    "EST1 = np.zeros((steps,4))\n",
    "  \n",
    "\n",
    "# Loop through steps\n",
    "for k in range(steps):\n",
    "    # Compute crossing of the measurements\n",
    "    dx1 = np.cos(Theta[k,0])\n",
    "    dy1 = np.sin(Theta[k,0])\n",
    "    dx2 = np.cos(Theta[k,1])\n",
    "    dy2 = np.sin(Theta[k,1])\n",
    "    d = np.linalg.solve(np.array([[dx1, dx2],[dy1, dy2]]),np.array([S2[0]-S1[0],S2[1]-S1[1]]))\n",
    "    # Crossing\n",
    "    cross_xy = S1 + np.array([[dx1],[dy1]])*d[0]\n",
    "    # compute estimate\n",
    "    m1 = np.concatenate([cross_xy.flatten(),[0],[0]])\n",
    "    EST1[k,:] = m1  "
   ]
  },
  {
   "cell_type": "code",
   "execution_count": null,
   "metadata": {},
   "outputs": [],
   "source": [
    "def rmse(X1,X2):\n",
    "    return np.sqrt(np.mean(np.sum((X1-X2)**2,axis=1)))"
   ]
  },
  {
   "cell_type": "markdown",
   "metadata": {},
   "source": [
    "# Baseline solution"
   ]
  },
  {
   "cell_type": "markdown",
   "metadata": {},
   "source": [
    "Animation"
   ]
  },
  {
   "cell_type": "code",
   "execution_count": null,
   "metadata": {},
   "outputs": [],
   "source": [
    "from matplotlib import animation, rc"
   ]
  },
  {
   "cell_type": "code",
   "execution_count": null,
   "metadata": {},
   "outputs": [],
   "source": [
    "def animate_estimate(EST,title_sol):\n",
    "    rc('animation', embed_limit=41030228 )\n",
    "    fig1,ax = plt.subplots(figsize=(20,10))\n",
    "    ax.set_title('{} solution'.format(title_sol))\n",
    "    ax.set_xlim([-2,2])\n",
    "    ax.set_ylim([-2.5,1.5])\n",
    "    ax.plot(X[:,0],X[:,1],linestyle = '--',color='b',alpha=0.5,label='True trajectory')\n",
    "    ax.scatter(S1[0],S1[1],marker = 'X',s=80, facecolors='none', edgecolors='k',label='Sensor 1')\n",
    "    ax.scatter(S2[0],S2[1],s=80, facecolors='none', edgecolors='k',label='Sensor 2')\n",
    "    l, = ax.plot([],[],linestyle = '-',color='r',alpha=0.5,label='{} estimate RMSE = {:0.3f}'.format(title_sol,rmse(X,EST)))\n",
    "    o, = ax.plot([],[],marker = 'o', color='k')\n",
    "    s_1, = ax.plot([],[],linestyle = '--',color='k')\n",
    "    s_2, = ax.plot([],[],linestyle = '--',color='k')\n",
    "    ax.legend()\n",
    "\n",
    "    def animate(i):\n",
    "        l.set_data(EST[:i+1,0],EST[:i+1,1])\n",
    "        o.set_data(EST[i:i+1,0],EST[i:i+1,1])\n",
    "        len = 4 \n",
    "        dx1 = len*np.cos(Theta[i,0]);\n",
    "        dy1 = len*np.sin(Theta[i,0]);\n",
    "        dx2 = len*np.cos(Theta[i,1]);\n",
    "        dy2 = len*np.sin(Theta[i,1]);\n",
    "        s_1.set_data([S1[0],S1[0]+dx1],[S1[1],S1[1]+dy1])\n",
    "        s_2.set_data([S2[0],S2[0]+dx2],[S2[1],S2[1]+dy2])\n",
    "        return (l,o,s_1,s_2)\n",
    "    def init():\n",
    "        l.set_data([],[])\n",
    "        o.set_data([],[])\n",
    "        s_1.set_data([],[])\n",
    "        s_2.set_data([],[])\n",
    "        return (l,o,s_1,s_2)\n",
    "\n",
    "    return animation.FuncAnimation(fig1, animate, init_func=init,frames=len(EST))"
   ]
  },
  {
   "cell_type": "code",
   "execution_count": null,
   "metadata": {
    "scrolled": false
   },
   "outputs": [],
   "source": [
    "%%capture\n",
    "ani = animate_estimate(EST1,\"Baseline\")"
   ]
  },
  {
   "cell_type": "code",
   "execution_count": null,
   "metadata": {},
   "outputs": [],
   "source": [
    "#from IPython.display import HTML\n",
    "#HTML(ani.to_jshtml())"
   ]
  },
  {
   "cell_type": "code",
   "execution_count": null,
   "metadata": {},
   "outputs": [],
   "source": [
    "def plot_estimate(EST,title_sol):\n",
    "    plt.figure(figsize=(20,10))\n",
    "    plt.title('{} solution'.format(title_sol))\n",
    "    plt.xlim([-2,2])\n",
    "    plt.ylim([-2.5,1.5])\n",
    "    plt.plot(X[:,0],X[:,1],linestyle = '--',color='b',alpha=0.5,label='True trajectory')\n",
    "    plt.plot(EST[:,0],EST[:,1],linestyle = '-',color='r',alpha=0.5,label='{} estimate RMSE = {:0.3f}'.format(title_sol,rmse(X,EST)))\n",
    "    plt.scatter(S1[0],S1[1],marker = 'X',s=80, facecolors='none', edgecolors='k',label='Sensor 1')\n",
    "    plt.scatter(S2[0],S2[1],s=80, facecolors='none', edgecolors='k',label='Sensor 2')\n",
    "    plt.xlabel('x')\n",
    "    plt.ylabel('y')\n",
    "    plt.legend()\n",
    "    plt.show()"
   ]
  },
  {
   "cell_type": "code",
   "execution_count": null,
   "metadata": {},
   "outputs": [],
   "source": [
    "plot_estimate(EST1,\"Baseline\")"
   ]
  },
  {
   "cell_type": "markdown",
   "metadata": {},
   "source": [
    "# EKF\n",
    "\n"
   ]
  },
  {
   "cell_type": "markdown",
   "metadata": {},
   "source": [
    " $$\\frac{d arctan(x)}{dx} = \\frac{1}{1+x^2}$$\n",
    " \n",
    " $$ \\frac{f(g(x))}{dx} = \\frac{df(g(x))}{dx}\\frac{g(x)}{dx}$$"
   ]
  },
  {
   "cell_type": "code",
   "execution_count": null,
   "metadata": {},
   "outputs": [],
   "source": [
    "def darctan(x):\n",
    "    return 1.0/(1+x**2)\n",
    "\n",
    "def g(mk,s):\n",
    "    return (mk[1,0]-s[1,0])/(mk[0,0]-s[0,0])\n",
    "\n",
    "def derivative_x(mk,s):\n",
    "    return (s[1,0]-mk[1,0])/(s[0,0]**2 - 2*s[0,0]*mk[0,0]+s[1,0]**2 - 2 *s[1,0]*mk[1,0] + mk[0,0]**2 + mk[1,0]**2)\n",
    "\n",
    "def derivative_y(mk,s):\n",
    "    return (mk[0,0]-s[0,0])/(s[0,0]**2 - 2.0*s[0,0]*mk[0,0]+s[1,0]**2 - 2 *s[1,0]*mk[1,0] + mk[0,0]**2 + mk[1,0]**2)\n",
    "    \n",
    "def dgy(mk,s):\n",
    "    return 1.0/(mk[0,0]-s[0,0])\n",
    "def dgx(mk,s):\n",
    "    return -(mk[1,0]-s[1,0])/(mk[0,0]-s[0,0])**2\n",
    "def h(mk,s):\n",
    "    return np.arctan2(mk[1,0]-s[1,0],mk[0,0]-s[0,0])"
   ]
  },
  {
   "cell_type": "code",
   "execution_count": null,
   "metadata": {
    "scrolled": false
   },
   "outputs": [],
   "source": [
    "m2 = x0           # Initialize to true value\n",
    "P2 = np.eye(4)        # Some uncertainty\n",
    "R  = sd**2*np.eye(2)   # The joint covariance\n",
    "EST2 = np.zeros((steps,4))\n",
    "\n",
    "for k in range(steps):\n",
    "    #predict\n",
    "    mk_ = A @ m2\n",
    "    Pk_ = A @ P2 @A.T + Q\n",
    "    #update\n",
    "    v_k = (Theta[k] - np.array([[h(mk_,S1),h(mk_,S2)]])).T\n",
    "    #H  = np.array([[darctan(g(mk_,S1))*dgx(mk_,S1),darctan(g(mk_,S1))*dgy(mk_,S1),0,0],\n",
    "    #               [darctan(g(mk_,S2))*dgx(mk_,S2),darctan(g(mk_,S2))*dgy(mk_,S2),0,0]])\n",
    "    H = np.array([[derivative_x(mk_,S1), derivative_y(mk_,S1),0,0],\n",
    "                 [derivative_x(mk_,S2),derivative_y(mk_,S2),0,0]])\n",
    "    S_k = H@Pk_@H.T + R\n",
    "    K_k = Pk_@H.T @ np.linalg.inv(S_k)\n",
    "    m2 = mk_ + K_k @ v_k\n",
    "    P2 = Pk_ - K_k @ S_k @ K_k.T\n",
    "    EST2[k,:] = m2.flatten()"
   ]
  },
  {
   "cell_type": "code",
   "execution_count": null,
   "metadata": {},
   "outputs": [],
   "source": [
    "%%capture\n",
    "ani = animate_estimate(EST2,\"EKF\")"
   ]
  },
  {
   "cell_type": "code",
   "execution_count": null,
   "metadata": {},
   "outputs": [],
   "source": [
    "#from IPython.display import HTML\n",
    "#HTML(ani.to_jshtml())"
   ]
  },
  {
   "cell_type": "code",
   "execution_count": null,
   "metadata": {},
   "outputs": [],
   "source": [
    "plot_estimate(EST2,\"EKF\")"
   ]
  },
  {
   "cell_type": "markdown",
   "metadata": {},
   "source": [
    "## Unscented Kalman filter using filterpy"
   ]
  },
  {
   "cell_type": "code",
   "execution_count": null,
   "metadata": {},
   "outputs": [],
   "source": [
    "x0"
   ]
  },
  {
   "cell_type": "code",
   "execution_count": null,
   "metadata": {},
   "outputs": [],
   "source": [
    "def fx(x, dt):\n",
    "    return np.dot(A,x)\n",
    "def hx(x):\n",
    "    return  np.array([h(x.reshape(4,1),S1),h(x.reshape(4,1),S2)])\n",
    "    \n",
    "dt = 0.1\n",
    "\n",
    "# create sigma points to use in the filter. This is standard for Gaussian processes\n",
    "points = MerweScaledSigmaPoints(4, alpha=1, beta=0, kappa=0)\n",
    "kf = UnscentedKalmanFilter(dim_x=4, dim_z=2, dt=dt, fx=fx, hx=hx, points=points)\n",
    "kf.x = x0.flatten()# initial state\n",
    "kf.P = np.eye(4) # initial uncertainty\n",
    "kf.R = R # 1 standard\n",
    "kf.Q = Q\n",
    "UKF_EST = np.zeros((len(Theta),4))\n",
    "\n",
    "for idx, z in enumerate(Theta):\n",
    "    kf.predict()\n",
    "    kf.update(z.flatten())\n",
    "    UKF_EST[idx] = kf.x"
   ]
  },
  {
   "cell_type": "code",
   "execution_count": null,
   "metadata": {},
   "outputs": [],
   "source": [
    "plot_estimate(UKF_EST,\"UKF filterpy\")"
   ]
  },
  {
   "cell_type": "code",
   "execution_count": null,
   "metadata": {},
   "outputs": [],
   "source": [
    "# Precompute the UT weights\n",
    "n = 4;\n",
    "alpha = 1;\n",
    "beta = 0;\n",
    "#   kappa = 3-n;\n",
    "kappa = 0;\n",
    "\n",
    "lambda_ = alpha**2 * (n + kappa) - n;        \n",
    "WM = np.zeros(2*n+1);\n",
    "WC = np.zeros(2*n+1);\n",
    "for j in range(0,2*n+1):\n",
    "    if j==0:\n",
    "        wm = lambda_ / (n + lambda_);\n",
    "        wc = lambda_ / (n + lambda_) + (1 - alpha**2 + beta);\n",
    "    else:\n",
    "        wm = 1 / (2 * (n + lambda_));\n",
    "        wc = wm;\n",
    "    \n",
    "    WM[j] = wm;\n",
    "    WC[j] = wc;"
   ]
  },
  {
   "cell_type": "code",
   "execution_count": null,
   "metadata": {},
   "outputs": [],
   "source": [
    "def hx(x):\n",
    "# measurement function - convert state into a measurement\n",
    "# where measurements are [x_pos, y_pos]\n",
    "    return np.array([[h(x,S1)],[h(x,S2)]])"
   ]
  },
  {
   "cell_type": "code",
   "execution_count": null,
   "metadata": {
    "scrolled": false
   },
   "outputs": [],
   "source": [
    "m = x0          # Initialize to true value\n",
    "dim_x = 4\n",
    "dim_y = 2\n",
    "P = np.eye(dim_x)        # Some uncertainty\n",
    "Ms = []\n",
    "Ps = []\n",
    "multipliers = [np.sqrt(n+lambda_) for i in range(0,n)]+[-np.sqrt(n+lambda_) for i in range(0,n)]\n",
    "for inx,val in enumerate(Theta):\n",
    "    #print(\"loop\")\n",
    "    P_SQRT = cholesky(P,lower=True)\n",
    "    sigma_points = np.zeros((len(WM),dim_x,1))\n",
    "    sigma_y = np.zeros((len(WM),dim_y,1))\n",
    "    sigma_f = np.zeros((len(WM),dim_x,1))\n",
    "    #calculate sigma points around m with f\n",
    "    sigma_points[0] = m\n",
    "    sigma_f[0] = np.dot(A,sigma_points[0])\n",
    "    for i in range(1,len(sigma_points)):\n",
    "        sigma_points[i] = m + multipliers[i-1]*P_SQRT[:,(i-1)%dim_x].reshape(dim_x,1)\n",
    "        sigma_f[i] = np.dot(A,sigma_points[i])\n",
    "   \n",
    "    mk_ = np.zeros((dim_x,1))\n",
    "    Pk_ = np.zeros((dim_x,dim_x)) \n",
    "\n",
    "    #prediction step\n",
    "    mk_ = sigma_f.squeeze().T.dot(WM).reshape((dim_x,1))\n",
    "    points_diff_f = sigma_f.squeeze().T - mk_\n",
    "    Pk_ = points_diff_f.dot(np.diag(WC)).dot(points_diff_f.T) + Q\n",
    "   \n",
    "    #print(sigma_points.reshape(4,9)@WM)\n",
    "   \n",
    "    #update step\n",
    "\n",
    "    P_SQRT = cholesky(Pk_,lower=True)\n",
    "   \n",
    "    #calculate sigma points around mk_ with h\n",
    "    sigma_points[0] = mk_\n",
    "    sigma_y[0] = hx(sigma_points[0])\n",
    "    \n",
    "    for i in range(1,len(sigma_points)):\n",
    "            sigma_points[i] = mk_ + multipliers[i-1]*P_SQRT[:,(i-1)%dim_x].reshape(dim_x,1) \n",
    "            sigma_y[i] = hx(sigma_points[i])\n",
    "            \n",
    "    mu_k = np.zeros((dim_y,1))\n",
    "    S_k = np.zeros((dim_y,dim_y))\n",
    "    C_k  = np.zeros((dim_x,dim_y))\n",
    "    \n",
    "    mu_k = sigma_y.squeeze().T.dot(WM).reshape((dim_y,1))\n",
    "    points_diff_y = sigma_y.squeeze().T - mu_k\n",
    "    S_k = points_diff_y.dot(np.diag(WC)).dot(points_diff_y.T) + R\n",
    "    C_k = points_diff_f.dot(np.diag(WC)).dot(points_diff_y.T)\n",
    "    \n",
    "    K_k = C_k@np.linalg.inv(S_k)\n",
    "    m = mk_ + K_k@(val.reshape(dim_y,1) - mu_k)\n",
    "    P = Pk_ - K_k@S_k@K_k.T\n",
    "    \n",
    "    Ms.append(m)\n",
    "    Ps.append(P)\n",
    "EST_UKF = np.array(Ms).squeeze()"
   ]
  },
  {
   "cell_type": "code",
   "execution_count": null,
   "metadata": {},
   "outputs": [],
   "source": [
    "%%capture\n",
    "ani = animate_estimate(EST_UKF,\"UKF\")"
   ]
  },
  {
   "cell_type": "code",
   "execution_count": null,
   "metadata": {},
   "outputs": [],
   "source": [
    "from IPython.display import HTML\n",
    "HTML(ani.to_jshtml())"
   ]
  },
  {
   "cell_type": "code",
   "execution_count": null,
   "metadata": {},
   "outputs": [],
   "source": [
    "plot_estimate(EST_UKF,\"UKF\")"
   ]
  },
  {
   "cell_type": "markdown",
   "metadata": {},
   "source": [
    "# Cubature Kalman Filter"
   ]
  },
  {
   "cell_type": "code",
   "execution_count": null,
   "metadata": {},
   "outputs": [],
   "source": [
    "n = 4\n",
    "multipliers = [np.sqrt(n) for i in range(0,n)]+[-np.sqrt(n) for i in range(0,n)]\n",
    "unit_vectors = np.array([[[1],[0],[0],[0]],[[0],[1],[0],[0]],[[0],[0],[1],[0]],[[0],[0],[0],[1]]])\n"
   ]
  },
  {
   "cell_type": "code",
   "execution_count": null,
   "metadata": {},
   "outputs": [],
   "source": [
    "m = x0          # Initialize to true value\n",
    "dim_x = 4\n",
    "dim_y = 2\n",
    "P = np.eye(dim_x)        # Some uncertainty\n",
    "Ms = []\n",
    "Ps = []\n",
    "n = 4\n",
    "multipliers = [np.sqrt(n) for i in range(0,n)]+[-np.sqrt(n) for i in range(0,n)]\n",
    "unit_vectors = np.array([[[1],[0],[0],[0]],[[0],[1],[0],[0]],[[0],[0],[1],[0]],[[0],[0],[0],[1]]])\n",
    "for inx,val in enumerate(Theta):\n",
    "    P_SQRT = cholesky(P,lower=True)\n",
    "    sigma_points = np.zeros((len(multipliers),dim_x,1))\n",
    "    sigma_y = np.zeros((len(multipliers),dim_y,1))\n",
    "    sigma_f = np.zeros((len(multipliers),dim_x,1))\n",
    "    #calculate sigma points around m with f\n",
    "    for i in range(0,len(sigma_points)):\n",
    "        sigma_points[i] = m + multipliers[i]*P_SQRT@unit_vectors[i%n]\n",
    "        sigma_f[i] = np.dot(A,sigma_points[i])\n",
    "      #prediction step\n",
    "    mk_ = np.sum(sigma_f,axis=0)/(2*n)\n",
    "\n",
    "    \n",
    "    points_diff_f = (sigma_f-mk_).squeeze().T\n",
    "    Pk_ = points_diff_f.dot(points_diff_f.T)/(2*n) + Q\n",
    "    #update step\n",
    "    \n",
    "    P_SQRT = cholesky(Pk_,lower=True)\n",
    "   \n",
    "    #calculate sigma points around mk_ with h\n",
    "    \n",
    "    for i in range(0,len(sigma_points)):\n",
    "        sigma_points[i] = mk_ + multipliers[i]*P_SQRT@unit_vectors[i%n]\n",
    "        sigma_y[i] =  hx(sigma_points[i])\n",
    "        \n",
    "            \n",
    "    mu_k =  np.sum(sigma_y,axis=0)/(2*n)\n",
    "\n",
    "    points_diff_y = (sigma_y-mu_k).squeeze().T\n",
    "    S_k = points_diff_y.dot(points_diff_y.T)/(2*n) + R\n",
    "    C_k = points_diff_f.dot(np.diag(np.repeat(1/(2.0*n),len(sigma_points)))).dot(points_diff_y.T)\n",
    "  \n",
    "    \n",
    "    K_k = C_k@np.linalg.inv(S_k)\n",
    "    m = mk_ + K_k@(val.reshape(dim_y,1) - mu_k)\n",
    "    P = Pk_ - K_k@S_k@K_k.T\n",
    "\n",
    "    Ms.append(m)\n",
    "    Ps.append(P)\n",
    "EST_CKF = np.array(Ms).squeeze()"
   ]
  },
  {
   "cell_type": "code",
   "execution_count": null,
   "metadata": {},
   "outputs": [],
   "source": [
    "%%capture\n",
    "ani = animate_estimate(EST_CKF,\"CKF\")"
   ]
  },
  {
   "cell_type": "code",
   "execution_count": null,
   "metadata": {},
   "outputs": [],
   "source": [
    "from IPython.display import HTML\n",
    "HTML(ani.to_jshtml())"
   ]
  },
  {
   "cell_type": "code",
   "execution_count": null,
   "metadata": {},
   "outputs": [],
   "source": [
    "plot_estimate(EST_CKF,\"CKF\")"
   ]
  }
 ],
 "metadata": {
  "hide_input": false,
  "kernelspec": {
   "display_name": "Python 3",
   "language": "python",
   "name": "python3"
  },
  "language_info": {
   "codemirror_mode": {
    "name": "ipython",
    "version": 3
   },
   "file_extension": ".py",
   "mimetype": "text/x-python",
   "name": "python",
   "nbconvert_exporter": "python",
   "pygments_lexer": "ipython3",
   "version": "3.6.6"
  },
  "latex_envs": {
   "LaTeX_envs_menu_present": true,
   "autoclose": false,
   "autocomplete": true,
   "bibliofile": "biblio.bib",
   "cite_by": "apalike",
   "current_citInitial": 1,
   "eqLabelWithNumbers": true,
   "eqNumInitial": 1,
   "hotkeys": {
    "equation": "Ctrl-E",
    "itemize": "Ctrl-I"
   },
   "labels_anchors": false,
   "latex_user_defs": false,
   "report_style_numbering": false,
   "user_envs_cfg": false
  }
 },
 "nbformat": 4,
 "nbformat_minor": 2
}
