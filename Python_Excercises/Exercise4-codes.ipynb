{
 "cells": [
  {
   "cell_type": "markdown",
   "metadata": {},
   "source": [
    "ELEC-E8105 \n",
    "\n",
    "Non-linear filtering and parameter estimation Spring 2019\n",
    "\n",
    "\n",
    "Exercise round 4"
   ]
  },
  {
   "cell_type": "markdown",
   "metadata": {},
   "source": [
    "# Exercise 1. (Extended Kalman Filter)"
   ]
  },
  {
   "cell_type": "markdown",
   "metadata": {},
   "source": [
    "Consider the following non-linear state space model\n",
    "\n",
    "$$ x_k = x_{k-1} - 0.01 sin (x_{k-1}) + q_{k_1}$$\n",
    "\n",
    "$$y_k = 0.5 sin (2x_k) + r_k$$\n",
    "\n",
    "where $q_{k-1}$ has variance $0.01^2$ and $r_k$ has variance $0.02$.\n",
    "\n",
    "**(a)** Derive the required derivatives for EKF for this model and check the\n",
    "derivatives numerically (recall that $df(x)/dx \\approx (f(x+h)-f(x))/h$ when\n",
    "$h$ is small).\n"
   ]
  },
  {
   "cell_type": "markdown",
   "metadata": {},
   "source": [
    "$\\frac{df(x)}{dx} = \\frac{d( x - 0.01 sin (x))}{dx} = 1 -0.01 cos(x) $"
   ]
  },
  {
   "cell_type": "markdown",
   "metadata": {},
   "source": [
    "$\\frac{dh(x)}{dx} = \\frac{d(0.5sin(2x)}{dx} = 0.5 cos(2x)*2 = cos(2x) $"
   ]
  },
  {
   "cell_type": "code",
   "execution_count": null,
   "metadata": {},
   "outputs": [],
   "source": [
    "import numpy\n",
    "import math\n",
    "from sklearn.metrics import mean_squared_error"
   ]
  },
  {
   "cell_type": "code",
   "execution_count": null,
   "metadata": {},
   "outputs": [],
   "source": [
    "def f(x):\n",
    "    return x -0.01*math.sin(x)\n",
    "def h(x):\n",
    "    return 0.5*math.sin(2*x)\n",
    "    "
   ]
  },
  {
   "cell_type": "code",
   "execution_count": null,
   "metadata": {},
   "outputs": [],
   "source": [
    "def df(x):\n",
    "    return 1-0.01*math.cos(x)\n",
    "def dh(x):\n",
    "    return math.cos(2*x)"
   ]
  },
  {
   "cell_type": "code",
   "execution_count": null,
   "metadata": {},
   "outputs": [],
   "source": [
    "x = 1\n",
    "dx = 0.01"
   ]
  },
  {
   "cell_type": "code",
   "execution_count": null,
   "metadata": {},
   "outputs": [],
   "source": [
    "(f(x+dx) -f(x))/dx"
   ]
  },
  {
   "cell_type": "code",
   "execution_count": null,
   "metadata": {},
   "outputs": [],
   "source": [
    "df(x)"
   ]
  },
  {
   "cell_type": "code",
   "execution_count": null,
   "metadata": {},
   "outputs": [],
   "source": [
    "(h(x+dx)-h(x))/dx"
   ]
  },
  {
   "cell_type": "code",
   "execution_count": null,
   "metadata": {},
   "outputs": [],
   "source": [
    "dh(x)"
   ]
  },
  {
   "cell_type": "markdown",
   "metadata": {},
   "source": [
    "**(b)** Implement the EKF for the model. Simulate trajectories from the model,\n",
    "compute the RMSE values and plot the results."
   ]
  },
  {
   "cell_type": "code",
   "execution_count": null,
   "metadata": {},
   "outputs": [],
   "source": [
    "import scipy.io as sio\n",
    "from filterpy.kalman import ExtendedKalmanFilter\n",
    "import numpy as np\n",
    "from sklearn.metrics import mean_squared_error\n",
    "import matplotlib.pyplot as plt\n",
    "from numpy.random import normal\n",
    "import seaborn as sns\n",
    "%matplotlib notebook"
   ]
  },
  {
   "cell_type": "code",
   "execution_count": null,
   "metadata": {},
   "outputs": [],
   "source": [
    "np.random.seed(123)\n",
    "n = 100\n",
    "q_sd = 0.01\n",
    "#I assume here that in exercise there was mistake as sqrt(0.02)=0.14 which is very high...\n",
    "r_sd = 0.02\n",
    "x_meas = np.zeros(n)\n",
    "y_meas = np.zeros(n)\n",
    "x_true = np.zeros(n)\n",
    "y_true = np.zeros(n)\n",
    "x_true[0] = 0\n",
    "y_true[0] = h(x_true[0])\n",
    "for j in range(1,n):\n",
    "    x_meas[j] = f(x_true[j-1]) + normal(0,q_sd)\n",
    "    y_true[j] = h(x_meas[j])\n",
    "    #I assume here that \n",
    "    y_meas[j] = y_true[j] + normal(0,r_sd)"
   ]
  },
  {
   "cell_type": "code",
   "execution_count": null,
   "metadata": {},
   "outputs": [],
   "source": [
    "plt.figure(figsize=(20,10))\n",
    "t = np.linspace(0,n,n)\n",
    "plt.title(\"Trajectories\")\n",
    "plt.plot(t,y_true,label = \"True signal\",linestyle='--',color='b',alpha=0.5)\n",
    "plt.scatter(t,y_meas,label = \"Measurements\",s=80, facecolors='none', edgecolors='g',alpha=0.5)\n",
    "#    plt.ylim(-0.04,0.04)\n",
    "plt.ylabel('y')\n",
    "plt.xlabel('timestep')\n",
    "plt.legend()\n",
    "plt.show()"
   ]
  },
  {
   "cell_type": "code",
   "execution_count": null,
   "metadata": {},
   "outputs": [],
   "source": [
    "#RMSE\n",
    "np.sqrt(mean_squared_error(y_true,y_meas))"
   ]
  },
  {
   "cell_type": "markdown",
   "metadata": {},
   "source": [
    "# Extended kalman filter"
   ]
  },
  {
   "cell_type": "code",
   "execution_count": null,
   "metadata": {},
   "outputs": [],
   "source": [
    "filterPy = False"
   ]
  },
  {
   "cell_type": "code",
   "execution_count": null,
   "metadata": {
    "scrolled": false
   },
   "outputs": [],
   "source": [
    "if not filterPy:\n",
    "    est_y = np.zeros(n)\n",
    "    mk = np.array([f(0)])\n",
    "    Pk = np.array([0.01**2])\n",
    "    for k in range(n):\n",
    "        #Prediction\n",
    "        mk_ =  np.array([[f(mk)]])\n",
    "        F = np.array([[df(mk)]])\n",
    "        Pk_ = F @ np.array([Pk])@ F.T + q_sd**2\n",
    "        #Update\n",
    "        v_k = np.array([[y_meas[k] - h(mk_)]])\n",
    "        H = np.array([[dh(mk_)]])\n",
    "        S_k = H@Pk_@H.T + r_sd**2\n",
    "        K_k = Pk_@H.T @ np.linalg.inv(S_k)\n",
    "        mk = (mk_ + K_k @ v_k).flatten()\n",
    "        Pk = (Pk_ - K_k @S_k@K_k).flatten()\n",
    "\n",
    "        est_y[k] = mk"
   ]
  },
  {
   "cell_type": "code",
   "execution_count": null,
   "metadata": {
    "scrolled": false
   },
   "outputs": [],
   "source": [
    "\n",
    "plt.figure(figsize=(20,10))\n",
    "plt.suptitle(\"Trajectories and EKF estimates\")\n",
    "plt.plot(t,y_true,label = \"True signal\",linestyle='--',color='b',alpha=0.5)\n",
    "plt.scatter(t,y_meas, \n",
    "                 label = \"Baseline RMSE ={:0.3f}\".format(np.sqrt(mean_squared_error(y_true,y_meas))),\n",
    "                   s=80, facecolors='none', edgecolors='r',alpha=0.5)\n",
    "plt.plot(t,est_y, \n",
    "                 label = \"EKF estimate RMSE ={:0.3f}\".format(np.sqrt(mean_squared_error(y_true,est_y)))\n",
    "                ,linestyle='-',color='r',alpha=0.5)\n",
    "plt.legend()\n",
    "plt.show()"
   ]
  },
  {
   "cell_type": "code",
   "execution_count": null,
   "metadata": {},
   "outputs": [],
   "source": [
    "#RMSE\n",
    "np.sqrt(mean_squared_error(y_true,y_meas))"
   ]
  },
  {
   "cell_type": "code",
   "execution_count": null,
   "metadata": {},
   "outputs": [],
   "source": [
    "filterPy = True\n",
    "#same using filterpy\n",
    "def HJacobian_at(x):\n",
    "    \"\"\" compute Jacobian of H matrix at x \"\"\"\n",
    "    return np.array([[dh(x)]])\n",
    "\n",
    "est2_y = np.zeros(n)\n",
    "if filterPy:\n",
    "    Q = np.array([[q_sd**2]])\n",
    "    R = np.array([[r_sd**2]])\n",
    "    me = np.array([[f(0)]])\n",
    "    F = np.array([[df(me)]])\n",
    "    H = np.array([[dh(me)]])\n",
    "    P = np.array([[r_sd**2]])\n",
    "    ekf = ExtendedKalmanFilter (dim_x=1, dim_z=1)\n",
    "    y_k = np.array(y_meas).flatten().reshape(n,1)\n",
    "    ekf.x = me\n",
    "    ekf.F = F\n",
    "    ekf.H = H\n",
    "    ekf.P = P\n",
    "    ekf.Q = Q\n",
    "    ekf.R = R\n",
    "    m_array = np.zeros((n,1))\n",
    "    for k in range(n):\n",
    "          ekf.predict()\n",
    "          ekf.update(y_k[k],HJacobian_at,h)\n",
    "          m_array[k] = ekf.x\n",
    "    est2_y = m_array.flatten()"
   ]
  },
  {
   "cell_type": "code",
   "execution_count": null,
   "metadata": {
    "scrolled": false
   },
   "outputs": [],
   "source": [
    "plt.figure(figsize=(20,10))\n",
    "plt.suptitle(\"Trajectories and EKF estimates\")\n",
    "plt.plot(t,y_true,label = \"True signal\",linestyle='--',color='b',alpha=0.5)\n",
    "plt.scatter(t,y_meas, \n",
    "                 label = \"Baseline RMSE ={:0.3f}\".format(np.sqrt(mean_squared_error(y_true,y_meas))),\n",
    "                   s=80, facecolors='none', edgecolors='r',alpha=0.5)\n",
    "plt.plot(t,est2_y, \n",
    "                 label = \"EKF estimate RMSE ={:0.3f}\".format(np.sqrt(mean_squared_error(y_true,est2_y)))\n",
    "                ,linestyle='-',color='r',alpha=0.5)\n",
    "plt.legend()\n",
    "plt.show()"
   ]
  },
  {
   "cell_type": "markdown",
   "metadata": {},
   "source": [
    "# Exercise 3. (Bearings Only Target Tracking with EKF)"
   ]
  },
  {
   "cell_type": "markdown",
   "metadata": {},
   "source": [
    "The state of the target at time step $k$ consist of the position $(x_k, y_k)$ and the\n",
    "velocity $(\\dot x_k,\\dot y_k)$. The dynamics of the state vector $x_k = (x_k, y_k, \\dot x_k, \\dot y_k)^T$ are\n",
    "modeled with the discretized Wiener velocity model:"
   ]
  },
  {
   "cell_type": "markdown",
   "metadata": {},
   "source": [
    "$$  \\begin{pmatrix}\n",
    "  x_k  \\\\\n",
    "  y_k \\\\\n",
    " \\dot x_k\\\\\n",
    " \\dot y_k \\\\\n",
    "  \\end{pmatrix} = \\begin{pmatrix} \n",
    " 1 & 0 & \\Delta t & 0 \\\\\n",
    " 0 & 1 & 0 & \\Delta t \\\\\n",
    " 0 & 0 & 1 & 0 \\\\\n",
    " 0 & 0 & 0 & 1 \n",
    "  \\end{pmatrix}\\begin{pmatrix}\n",
    "  x_{k-1}  \\\\\n",
    "  y_{k-1} \\\\\n",
    " \\dot x_{k-1}\\\\\n",
    " \\dot y_{k-1}\n",
    "  \\end{pmatrix} + q_{k-1}$$"
   ]
  },
  {
   "cell_type": "markdown",
   "metadata": {},
   "source": [
    "where $q_k$ is a zero mean Gaussian process noise with covariance\n",
    "\n",
    "$$Q = \\begin{pmatrix} \n",
    " q_1^c \\Delta t^3/3 & 0 & q_1^c\\Delta t^2/2 & 0 \\\\\n",
    " 0 & q_2^c \\Delta t^3/3 & 0 & q_2^c \\Delta t^2 /2\\\\\n",
    " q_1^c \\Delta t^2/2 & 0 & q_1^c \\Delta t & 0 \\\\\n",
    " 0 & q_2^c \\Delta t^2/2 & 0 & q_2^c \\Delta t \n",
    "  \\end{pmatrix}$$\n",
    "  \n",
    "  \n",
    "In this scenario the diffusion coefficients are $q_c^1 = q_c^2 = 0.1$ and the sampling period is $\\Delta t = 0.1$. The measurement model for sensor $i \\in \\{1, 2\\}$ is the following:\n",
    "\n",
    "$$\\theta_k^i = tan^{-1} \\big(\\frac{y_k - s_y^i}{x_k - s_x^i}\\big) +r_k$$\n",
    "\n",
    "where $(s_x^i,s_y^i)$ is the position of the sensor $i$ and $r_k \\sim N(0, \\sigma^2)$ is a Gaussian\n",
    "measurement noise with standard deviation of $\\sigma = 0.05$ radians. At each sampling time, which occurs 10 times per second (i.e., $\\Delta t = 0.1$), both of the two sensors produce a measurement.\n",
    "\n",
    "In the file angle_ex.m (in MyCourses) there is a baseline solution, which\n",
    "computes estimates of the position from the crossing of the measurements\n",
    "and estimates the velocity to be always zero. Your task is to implement an\n",
    "EKF for the problem and compare the results graphically and in RMSE\n",
    "sense."
   ]
  },
  {
   "cell_type": "markdown",
   "metadata": {},
   "source": [
    "**(a)** Implement an EKF for the bearings only target tracking problem, which\n",
    "uses the non-linear measurement model (5) as its measurement model\n",
    "function (not the crossings). Hints:\n",
    "- Use the Matlab function atan2 in the measurement model instead\n",
    "of atan to directly get an answer in the range $[-\\pi,\\pi]$.\n",
    "- The two measurements at each measurement time can be processed\n",
    "one at a time, that is, you can simply perform two scalar updates\n",
    "instead of a single two dimensional measurement update."
   ]
  },
  {
   "cell_type": "code",
   "execution_count": null,
   "metadata": {},
   "outputs": [],
   "source": [
    "#load simulated data.\n",
    "Theta = sio.loadmat('Theta.mat')['Theta']\n",
    "Theta = Theta.swapaxes(0,1)\n",
    "X = sio.loadmat('X.mat')['X']\n",
    "X = X.swapaxes(0,1)"
   ]
  },
  {
   "cell_type": "code",
   "execution_count": null,
   "metadata": {},
   "outputs": [],
   "source": [
    "steps = Theta.shape[0]\n",
    "x0 = np.array([[0],[0],[1],[0]])\n",
    "S1 = np.array([[-1.5],[0.5]])# Position of sensor 1\n",
    "S2 = np.array([[1],[1]])      # Position of sensor 2\n"
   ]
  },
  {
   "cell_type": "code",
   "execution_count": null,
   "metadata": {},
   "outputs": [],
   "source": [
    "qc = 0.1\n",
    "dt = 0.01\n",
    "sd = 0.05;\n",
    "#This is the transition matrix\n",
    "A = np.array([[1,0,dt,0],\n",
    "             [0,1,0,dt],\n",
    "             [0,0,1,0],\n",
    "             [0,0,0,1]])\n",
    "#This is the process noise covariance\n",
    "Q = np.array([[qc*dt**3/3,0, qc*dt**2/2, 0],\n",
    "       [0, qc*dt**3/3, 0, qc*dt**2/2],\n",
    "       [qc*dt**2/2, 0, qc*dt, 0],\n",
    "       [0, qc*dt**2/2, 0, qc*dt]])"
   ]
  },
  {
   "cell_type": "code",
   "execution_count": null,
   "metadata": {
    "scrolled": false
   },
   "outputs": [],
   "source": [
    "# Initialize to true value\n",
    "m1 = x0\n",
    "EST1 = np.zeros((steps,4))\n",
    "  \n",
    "\n",
    "# Loop through steps\n",
    "for k in range(steps):\n",
    "    # Compute crossing of the measurements\n",
    "    dx1 = np.cos(Theta[k,0])\n",
    "    dy1 = np.sin(Theta[k,0])\n",
    "    dx2 = np.cos(Theta[k,1])\n",
    "    dy2 = np.sin(Theta[k,1])\n",
    "    d = np.linalg.solve(np.array([[dx1, dx2],[dy1, dy2]]),np.array([S2[0]-S1[0],S2[1]-S1[1]]))\n",
    "    # Crossing\n",
    "    cross_xy = S1 + np.array([[dx1],[dy1]])*d[0]\n",
    "    # compute estimate\n",
    "    m1 = np.concatenate([cross_xy.flatten(),[0],[0]])\n",
    "    EST1[k,:] = m1  "
   ]
  },
  {
   "cell_type": "code",
   "execution_count": null,
   "metadata": {},
   "outputs": [],
   "source": [
    "def rmse(X1,X2):\n",
    "    return np.sqrt(np.mean(np.sum((X1-X2)**2,axis=1)))"
   ]
  },
  {
   "cell_type": "markdown",
   "metadata": {},
   "source": [
    "# Baseline solution"
   ]
  },
  {
   "cell_type": "markdown",
   "metadata": {},
   "source": [
    "Animation"
   ]
  },
  {
   "cell_type": "code",
   "execution_count": null,
   "metadata": {},
   "outputs": [],
   "source": [
    "from matplotlib import animation, rc"
   ]
  },
  {
   "cell_type": "code",
   "execution_count": null,
   "metadata": {},
   "outputs": [],
   "source": [
    "#RMSE\n",
    "rmse1 = rmse(X,EST1)\n",
    "rmse1"
   ]
  },
  {
   "cell_type": "code",
   "execution_count": null,
   "metadata": {
    "scrolled": false
   },
   "outputs": [],
   "source": [
    "%%capture\n",
    "rc('animation', embed_limit=41030228 )\n",
    "fig1,ax = plt.subplots(figsize=(20,10))\n",
    "ax.set_title('Baseline solution')\n",
    "ax.set_xlim([-2,2])\n",
    "ax.set_ylim([-2.5,1.5])\n",
    "ax.plot(X[:,0],X[:,1],linestyle = '--',color='b',alpha=0.5,label='True trajectory')\n",
    "ax.scatter(S1[0],S1[1],marker = 'X',s=80, facecolors='none', edgecolors='k',label='Sensor 1')\n",
    "ax.scatter(S2[0],S2[1],s=80, facecolors='none', edgecolors='k',label='Sensor 2')\n",
    "l, = ax.plot([],[],linestyle = '-',color='r',alpha=0.5,label='Baseline estimate RMSE = {:0.3f}'.format(rmse1))\n",
    "o, = ax.plot([],[],marker = 'o', color='k')\n",
    "s_1, = ax.plot([],[],linestyle = '--',color='k')\n",
    "s_2, = ax.plot([],[],linestyle = '--',color='k')\n",
    "ax.legend()\n",
    "\n",
    "def animate(i):\n",
    "    l.set_data(EST1[:i+1,0],EST1[:i+1,1])\n",
    "    o.set_data(EST1[i:i+1,0],EST1[i:i+1,1])\n",
    "    len = 4 \n",
    "    dx1 = len*np.cos(Theta[i,0]);\n",
    "    dy1 = len*np.sin(Theta[i,0]);\n",
    "    dx2 = len*np.cos(Theta[i,1]);\n",
    "    dy2 = len*np.sin(Theta[i,1]);\n",
    "    s_1.set_data([S1[0],S1[0]+dx1],[S1[1],S1[1]+dy1])\n",
    "    s_2.set_data([S2[0],S2[0]+dx2],[S2[1],S2[1]+dy2])\n",
    "    return (l,o,s_1,s_2)\n",
    "def init():\n",
    "    l.set_data([],[])\n",
    "    o.set_data([],[])\n",
    "    s_1.set_data([],[])\n",
    "    s_2.set_data([],[])\n",
    "    return (l,o,s_1,s_2)\n",
    "    \n",
    "ani = animation.FuncAnimation(fig1, animate, init_func=init,frames=len(EST1))"
   ]
  },
  {
   "cell_type": "code",
   "execution_count": null,
   "metadata": {},
   "outputs": [],
   "source": [
    "from IPython.display import HTML\n",
    "HTML(ani.to_jshtml())"
   ]
  },
  {
   "cell_type": "code",
   "execution_count": null,
   "metadata": {},
   "outputs": [],
   "source": [
    "plt.figure(figsize=(20,10))\n",
    "plt.title('Baseline solution')\n",
    "plt.xlim([-2,2])\n",
    "plt.ylim([-2.5,1.5])\n",
    "plt.plot(X[:,0],X[:,1],linestyle = '--',color='b',alpha=0.5,label='True trajectory')\n",
    "plt.plot(EST1[:,0],EST1[:,1],linestyle = '-',color='r',alpha=0.5,label='Baseline estimate RMSE = {:0.3f}'.format(rmse1))\n",
    "plt.scatter(S1[0],S1[1],marker = 'X',s=80, facecolors='none', edgecolors='k',label='Sensor 1')\n",
    "plt.scatter(S2[0],S2[1],s=80, facecolors='none', edgecolors='k',label='Sensor 2')\n",
    "plt.xlabel('x')\n",
    "plt.ylabel('y')\n",
    "plt.legend()\n",
    "plt.show()"
   ]
  },
  {
   "cell_type": "markdown",
   "metadata": {},
   "source": [
    "# EKF\n",
    "\n"
   ]
  },
  {
   "cell_type": "markdown",
   "metadata": {},
   "source": [
    " $$\\frac{d arctan(x)}{dx} = \\frac{1}{1+x^2}$$\n",
    " \n",
    " $$ \\frac{f(g(x))}{dx} = \\frac{df(g(x))}{dx}\\frac{g(x)}{dx}$$"
   ]
  },
  {
   "cell_type": "code",
   "execution_count": null,
   "metadata": {},
   "outputs": [],
   "source": [
    "def darctan(x):\n",
    "    return 1.0/(1+x**2)\n",
    "\n",
    "def g(mk,s):\n",
    "    return (mk[1,0]-s[1,0])/(mk[0,0]-s[0,0])\n",
    "\n",
    "def derivative_x(mk,s):\n",
    "    return (s[1,0]-mk[1,0])/(s[0,0]**2 - 2*s[0,0]*mk[0,0]+s[1,0]**2 - 2 *s[1,0]*mk[1,0] + mk[0,0]**2 + mk[1,0]**2)\n",
    "\n",
    "def derivative_y(mk,s):\n",
    "    return (mk[0,0]-s[0,0])/(s[0,0]**2 - 2.0*s[0,0]*mk[0,0]+s[1,0]**2 - 2 *s[1,0]*mk[1,0] + mk[0,0]**2 + mk[1,0]**2)\n",
    "    \n",
    "def dgy(mk,s):\n",
    "    return 1.0/(mk[0,0]-s[0,0])\n",
    "def dgx(mk,s):\n",
    "    return -(mk[1,0]-s[1,0])/(mk[0,0]-s[0,0])**2\n",
    "def h(mk,s):\n",
    "    return np.arctan2(mk[1,0]-s[1,0],mk[0,0]-s[0,0])"
   ]
  },
  {
   "cell_type": "code",
   "execution_count": null,
   "metadata": {
    "scrolled": false
   },
   "outputs": [],
   "source": [
    "m2 = x0           # Initialize to true value\n",
    "P2 = np.eye(4)        # Some uncertainty\n",
    "R  = sd**2*np.eye(2)   # The joint covariance\n",
    "EST2 = np.zeros((steps,4))\n",
    "\n",
    "for k in range(steps):\n",
    "    #predict\n",
    "    mk_ = A @ m2\n",
    "    Pk_ = A @ P2 @A.T + Q\n",
    "    #update\n",
    "    v_k = (Theta[k] - np.array([[h(mk_,S1),h(mk_,S2)]])).T\n",
    "    #H  = np.array([[darctan(g(mk_,S1))*dgx(mk_,S1),darctan(g(mk_,S1))*dgy(mk_,S1),0,0],\n",
    "    #               [darctan(g(mk_,S2))*dgx(mk_,S2),darctan(g(mk_,S2))*dgy(mk_,S2),0,0]])\n",
    "    H = np.array([[derivative_x(mk_,S1), derivative_y(mk_,S1),0,0],\n",
    "                 [derivative_x(mk_,S2),derivative_y(mk_,S2),0,0]])\n",
    "    S_k = H@Pk_@H.T + R\n",
    "    K_k = Pk_@H.T @ np.linalg.inv(S_k)\n",
    "    m2 = mk_ + K_k @ v_k\n",
    "    P2 = Pk_ - K_k @ S_k @ K_k.T\n",
    "    EST2[k,:] = m2.flatten()"
   ]
  },
  {
   "cell_type": "code",
   "execution_count": null,
   "metadata": {},
   "outputs": [],
   "source": [
    "#RMSE 0.4408\n",
    "rmse2 = rmse(X,EST2)\n",
    "rmse2"
   ]
  },
  {
   "cell_type": "code",
   "execution_count": null,
   "metadata": {},
   "outputs": [],
   "source": [
    "%%capture\n",
    "rc('animation', embed_limit=41030228 )\n",
    "fig1,ax = plt.subplots(figsize=(20,10))\n",
    "ax.set_title('Baseline solution')\n",
    "ax.set_xlim([-2,2])\n",
    "ax.set_ylim([-2.5,1.5])\n",
    "ax.plot(X[:,0],X[:,1],linestyle = '--',color='b',alpha=0.5,label='True trajectory')\n",
    "ax.scatter(S1[0],S1[1],marker = 'X',s=80, facecolors='none', edgecolors='k',label='Sensor 1')\n",
    "ax.scatter(S2[0],S2[1],s=80, facecolors='none', edgecolors='k',label='Sensor 2')\n",
    "l, = ax.plot([],[],linestyle = '-',color='r',alpha=0.5,label='EKF estimate RMSE = {:0.3f}'.format(rmse2))\n",
    "o, = ax.plot([],[],marker = 'o', color='k')\n",
    "s_1, = ax.plot([],[],linestyle = '--',color='k')\n",
    "s_2, = ax.plot([],[],linestyle = '--',color='k')\n",
    "ax.legend()\n",
    "\n",
    "def animate(i):\n",
    "    l.set_data(EST2[:i+1,0],EST2[:i+1,1])\n",
    "    o.set_data(EST2[i:i+1,0],EST2[i:i+1,1])\n",
    "    len = 4 \n",
    "    dx1 = len*np.cos(Theta[i,0]);\n",
    "    dy1 = len*np.sin(Theta[i,0]);\n",
    "    dx2 = len*np.cos(Theta[i,1]);\n",
    "    dy2 = len*np.sin(Theta[i,1]);\n",
    "    s_1.set_data([S1[0],S1[0]+dx1],[S1[1],S1[1]+dy1])\n",
    "    s_2.set_data([S2[0],S2[0]+dx2],[S2[1],S2[1]+dy2])\n",
    "    return (l,o,s_1,s_2)\n",
    "def init():\n",
    "    l.set_data([],[])\n",
    "    o.set_data([],[])\n",
    "    s_1.set_data([],[])\n",
    "    s_2.set_data([],[])\n",
    "    return (l,o,s_1,s_2)\n",
    "    \n",
    "ani = animation.FuncAnimation(fig1, animate, init_func=init,frames=len(EST1))"
   ]
  },
  {
   "cell_type": "code",
   "execution_count": null,
   "metadata": {},
   "outputs": [],
   "source": [
    "from IPython.display import HTML\n",
    "HTML(ani.to_jshtml())"
   ]
  },
  {
   "cell_type": "code",
   "execution_count": null,
   "metadata": {},
   "outputs": [],
   "source": [
    "plt.figure(figsize=(20,10))\n",
    "plt.title('EKF solution')\n",
    "plt.xlim([-2,2])\n",
    "plt.ylim([-2.5,1.5])\n",
    "plt.plot(X[:,0],X[:,1],linestyle = '--',color='b',alpha=0.5,label='True trajectory')\n",
    "plt.plot(EST2[:,0],EST2[:,1],linestyle = '-',color='r',alpha=0.5,label='EKF estimate RMSE = {:0.3f}'.format(rmse2))\n",
    "plt.scatter(S1[0],S1[1],marker = 'X',s=80, facecolors='none', edgecolors='k',label='Sensor 1')\n",
    "plt.scatter(S2[0],S2[1],s=80, facecolors='none', edgecolors='k',label='Sensor 2')\n",
    "plt.xlabel('x')\n",
    "plt.ylabel('y')\n",
    "plt.legend()\n",
    "plt.show()"
   ]
  },
  {
   "cell_type": "markdown",
   "metadata": {},
   "source": [
    "## Same using filterpy"
   ]
  },
  {
   "cell_type": "code",
   "execution_count": null,
   "metadata": {},
   "outputs": [],
   "source": [
    "ekf = ExtendedKalmanFilter (dim_x=4, dim_z=2)\n",
    "y_k = np.array(Theta).flatten().reshape(steps,2)\n",
    "ekf.x = x0\n",
    "ekf.F = A\n",
    "ekf.P = P2\n",
    "ekf.Q = Q\n",
    "ekf.R = R\n",
    "\n",
    "m_array = np.zeros((steps,4))\n",
    "def HJacobian_at(x):\n",
    "    \"\"\" compute Jacobian of H matrix at x \"\"\"\n",
    "    return np.array([[derivative_x(x,S1), derivative_y(x,S1),0,0],\n",
    "                 [derivative_x(x,S2),derivative_y(x,S2),0,0]])\n",
    "def h_x(x):\n",
    "    return np.array([[h(x,S1)],[h(x,S2)]])\n",
    "\n",
    "for k in range(steps):\n",
    "      ekf.predict()\n",
    "      ekf.update(y_k[k].reshape(2,1),HJacobian_at,h_x)\n",
    "      m_array[k] = ekf.x.flatten()\n",
    "est2_y = m_array"
   ]
  },
  {
   "cell_type": "code",
   "execution_count": null,
   "metadata": {},
   "outputs": [],
   "source": [
    "#RMSE 0.4408\n",
    "rmse2 = rmse(X,est2_y)\n",
    "rmse2"
   ]
  },
  {
   "cell_type": "code",
   "execution_count": null,
   "metadata": {},
   "outputs": [],
   "source": [
    "plt.figure(figsize=(20,10))\n",
    "plt.title('EKF solution')\n",
    "plt.xlim([-2,2])\n",
    "plt.ylim([-2.5,1.5])\n",
    "plt.plot(X[:,0],X[:,1],linestyle = '--',color='b',alpha=0.5,label='True trajectory')\n",
    "plt.plot(est2_y[:,0],est2_y[:,1],linestyle = '-',color='r',alpha=0.5,label='EKF estimate RMSE = {:0.3f}'.format(rmse2))\n",
    "plt.scatter(S1[0],S1[1],marker = 'X',s=80, facecolors='none', edgecolors='k',label='Sensor 1')\n",
    "plt.scatter(S2[0],S2[1],s=80, facecolors='none', edgecolors='k',label='Sensor 2')\n",
    "plt.xlabel('x')\n",
    "plt.ylabel('y')\n",
    "plt.legend()\n",
    "plt.show()"
   ]
  }
 ],
 "metadata": {
  "kernelspec": {
   "display_name": "Python 3",
   "language": "python",
   "name": "python3"
  },
  "language_info": {
   "codemirror_mode": {
    "name": "ipython",
    "version": 3
   },
   "file_extension": ".py",
   "mimetype": "text/x-python",
   "name": "python",
   "nbconvert_exporter": "python",
   "pygments_lexer": "ipython3",
   "version": "3.7.2"
  }
 },
 "nbformat": 4,
 "nbformat_minor": 2
}
