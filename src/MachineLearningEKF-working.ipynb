{
 "cells": [
  {
   "cell_type": "markdown",
   "metadata": {},
   "source": [
    "# Machine learning using EKF"
   ]
  },
  {
   "cell_type": "code",
   "execution_count": 3,
   "metadata": {},
   "outputs": [],
   "source": [
    "from IPython import display\n",
    "import os\n",
    "import random\n",
    "import numpy as np\n",
    "import matplotlib.pyplot as plt\n",
    "%matplotlib inline\n",
    "import pandas as pd\n",
    "from sklearn.model_selection import train_test_split\n",
    "import seaborn as sns\n",
    "\n",
    "# Importing Pytorch libraries\n",
    "import torch\n",
    "import torch.nn as nn\n",
    "import torch.nn.functional as F"
   ]
  },
  {
   "cell_type": "code",
   "execution_count": 4,
   "metadata": {},
   "outputs": [
    {
     "name": "stdout",
     "output_type": "stream",
     "text": [
      "Current Directory: D:\\Projects\\NLP_Project\\NeuralNetworkswKalmanFilters\\src\n",
      "The data directory is ..\\data\n"
     ]
    }
   ],
   "source": [
    "# Select data directory\n",
    "print(\"Current Directory:\",os.getcwd())\n",
    "if os.path.isdir('/coursedata'):\n",
    "    course_data_dir = '/coursedata'\n",
    "elif os.path.isdir('..\\data/'):\n",
    "    course_data_dir = '..\\data'\n",
    "else:\n",
    "    # Specify course_data_dir on your machine\n",
    "    # course_data_dir = ...\n",
    "    # YOUR CODE HERE\n",
    "    raise NotImplementedError()\n",
    "\n",
    "print('The data directory is %s' % course_data_dir)"
   ]
  },
  {
   "cell_type": "code",
   "execution_count": 5,
   "metadata": {},
   "outputs": [
    {
     "name": "stdout",
     "output_type": "stream",
     "text": [
      "cuda:0\n"
     ]
    }
   ],
   "source": [
    "# Select device which you are going to use for training\n",
    "device = torch.device(\"cuda:0\" if torch.cuda.is_available() else \"cpu\")\n",
    "print(device)"
   ]
  },
  {
   "cell_type": "markdown",
   "metadata": {},
   "source": [
    "### Import Data Sets\n",
    "Testing using a toy sine data"
   ]
  },
  {
   "cell_type": "code",
   "execution_count": 6,
   "metadata": {},
   "outputs": [
    {
     "data": {
      "text/plain": [
       "[<matplotlib.lines.Line2D at 0x182b04a44a8>]"
      ]
     },
     "execution_count": 6,
     "metadata": {},
     "output_type": "execute_result"
    },
    {
     "data": {
      "image/png": "[encoded data removed]",
      "text/plain": [
       "<matplotlib.figure.Figure at 0x182b04a4438>"
      ]
     },
     "metadata": {
      "needs_background": "light"
     },
     "output_type": "display_data"
    }
   ],
   "source": [
    "# Let us generate toy data\n",
    "np.random.seed(2)\n",
    "x_train = np.random.randn(100, 1)\n",
    "x_train = np.sort(x_train, axis=0)\n",
    "y_train = np.sin(x_train * 2 * np.pi / 3)\n",
    "y_train = y_train + 0.2 * np.random.randn(*y_train.shape)\n",
    "\n",
    "# Plot the data\n",
    "fig, ax = plt.subplots(1)\n",
    "ax.plot(x_train, y_train, '.')"
   ]
  },
  {
   "cell_type": "code",
   "execution_count": 7,
   "metadata": {},
   "outputs": [],
   "source": [
    "## Use MNIST data set\n",
    "# import packages.mnist.mnist_loader as mnist_loader\n",
    "# training_data, validation_data, test_data = mnist_loader.load_data_wrapper()\n",
    "# training_data = list(training_data)"
   ]
  },
  {
   "cell_type": "markdown",
   "metadata": {},
   "source": [
    "## Data Preprocessing\n"
   ]
  },
  {
   "cell_type": "code",
   "execution_count": 8,
   "metadata": {},
   "outputs": [],
   "source": [
    "# from sklearn.preprocessing import StandardScaler\n",
    "# scaler = StandardScaler()\n",
    "\n",
    "# x_train_scaled = scaler.fit_transform(x_train)\n",
    "# x_test_scaled = scaler.transform(x_test)"
   ]
  },
  {
   "cell_type": "markdown",
   "metadata": {},
   "source": [
    "## Define Neural network"
   ]
  },
  {
   "cell_type": "code",
   "execution_count": 9,
   "metadata": {},
   "outputs": [],
   "source": [
    "class MLP(nn.Module):\n",
    "    def __init__(self, n_inputs, n_hidden_layer, n_outputs,bias=True):\n",
    "        super(MLP, self).__init__()\n",
    "        # YOUR CODE HERE\n",
    "        #raise NotImplementedError()\n",
    "        self.fc1 = nn.Linear(n_inputs, n_hidden_layer, bias)\n",
    "        self.fc2 = nn.Linear(n_hidden_layer, n_hidden_layer, bias)\n",
    "        self.fc3 = nn.Linear(n_hidden_layer, n_outputs, bias)\n",
    "        \n",
    "\n",
    "    def forward(self, x):\n",
    "        # YOUR CODE HERE\n",
    "        #raise NotImplementedError()\n",
    "        x = torch.tanh(self.fc1(x))\n",
    "        x = torch.tanh(self.fc2(x))\n",
    "        x = self.fc3(x)\n",
    "        return x    "
   ]
  },
  {
   "cell_type": "code",
   "execution_count": 10,
   "metadata": {},
   "outputs": [
    {
     "name": "stdout",
     "output_type": "stream",
     "text": [
      "MLP(\n",
      "  (fc1): Linear(in_features=1, out_features=100, bias=True)\n",
      "  (fc2): Linear(in_features=100, out_features=100, bias=True)\n",
      "  (fc3): Linear(in_features=100, out_features=1, bias=True)\n",
      ")\n"
     ]
    }
   ],
   "source": [
    "## Testing net\n",
    "n_inputs = 1\n",
    "n_outputs = 1\n",
    "n_hidden_layer = 100\n",
    "test_net = MLP(n_inputs, n_hidden_layer, n_outputs)\n",
    "print(test_net)"
   ]
  },
  {
   "cell_type": "code",
   "execution_count": 11,
   "metadata": {},
   "outputs": [
    {
     "data": {
      "image/png": "[encoded data removed]",
      "text/plain": [
       "<matplotlib.figure.Figure at 0x182b051ed68>"
      ]
     },
     "metadata": {
      "needs_background": "light"
     },
     "output_type": "display_data"
    }
   ],
   "source": [
    "# Define number of Input and Output layers\n",
    "torch.set_default_dtype(torch.float64)\n",
    "n_inputs = 1\n",
    "n_outputs = 1\n",
    "n_hidden_layer = 10\n",
    "mlp = MLP(n_inputs,n_hidden_layer, n_outputs)\n",
    "mpl = mlp.to(device)\n",
    "optimizer = torch.optim.Adam(mlp.parameters(), lr=0.005)\n",
    "n_epochs = 100\n",
    "\n",
    "train_accuracy_history = []\n",
    "test_accuracy_history = []\n",
    "\n",
    "x_train = torch.tensor(x_train, device=device, dtype=torch.float64)\n",
    "y_train = torch.tensor(y_train, device=device, dtype=torch.float64)\n",
    "\n",
    "ceLoss = nn.MSELoss()\n",
    "\n",
    "# Plotting before learning \n",
    "fig, ax = plt.subplots(1)\n",
    "ax.plot(x_train.cpu().numpy(), y_train.cpu().numpy(), '.')\n",
    "\n",
    "for epoch in range(n_epochs):\n",
    "    \n",
    "    #Set gradients as zero\n",
    "    mlp.zero_grad()\n",
    "    #Calculate outputs with forward()\n",
    "    outputs = mlp(x_train)   \n",
    "    \n",
    "    #calculate loss\n",
    "    loss = ceLoss(outputs, y_train)\n",
    "#     print(f\"The output is :{outputs.item()} expected is :{y_train}\")\n",
    "    #calculate gradients - calling backward()\n",
    "    loss.backward()\n",
    "    \n",
    "    #update weights using optimizer\n",
    "    optimizer.step()\n",
    " \n",
    "    ax.clear()\n",
    "    plt_x_train = x_train.cpu().detach().numpy()\n",
    "    plt_y_train = y_train.cpu().detach().numpy()\n",
    "    plt_outputs = outputs.cpu().detach().numpy()\n",
    "    ax.plot(plt_x_train, plt_y_train, '.')\n",
    "    ax.plot(plt_x_train, plt_outputs, 'r-')\n",
    "    ax.grid(True)\n",
    "    ax.set_title('Iteration %d/%d' % (epoch+1, n_epochs))\n",
    "    display.clear_output(wait=True)\n",
    "    display.display(fig)\n",
    "    plt.pause(0.005)\n",
    "display.clear_output(wait=True)"
   ]
  },
  {
   "cell_type": "markdown",
   "metadata": {},
   "source": [
    "## Using EKF for learning "
   ]
  },
  {
   "cell_type": "code",
   "execution_count": 12,
   "metadata": {},
   "outputs": [],
   "source": [
    "# #Calculate Weight size\n",
    "# weight_mat_size = 0\n",
    "# for i in range(len(layer_list)-1):\n",
    "#     weight_mat_size = weight_mat_size + (layer_list[i]*layer_list[i+1])\n",
    "        \n",
    "def getWeights(net):\n",
    "    weight_mat = []\n",
    "    for name,param in net.named_parameters():\n",
    "    \n",
    "        #print('Layer',name, 'is', param.data.shape)\n",
    "        if (len(list(param.data.shape)) == 2):\n",
    "            weight_mat.append(param.data.flatten())\n",
    "        \n",
    "    weight_mat = torch.cat(weight_mat, dim=0)       \n",
    "    #print('Shape of weight matrix', weight_mat.shape)\n",
    "    return weight_mat.view(-1, 1)\n",
    "\n",
    "def getWeightsgrad(net):\n",
    "    weight_grad_mat = []\n",
    "    for name,param in net.named_parameters():\n",
    "    \n",
    "        #print('Layer Grads',name, 'is', param.grad.shape)\n",
    "        if (len(list(param.grad.shape)) == 2):\n",
    "            weight_grad_mat.append(param.grad.flatten())\n",
    "        \n",
    "    weight_grad_mat = torch.cat(weight_grad_mat, dim=0)       \n",
    "    #print('Shape of weight matrix', weight_grad_mat.shape)   \n",
    "    return weight_grad_mat.view(-1, 1)\n",
    "\n",
    "def setWeights(net, weight_mat):\n",
    "    mem_ind = 0;\n",
    "    for name,param in net.named_parameters():\n",
    "        if (len(list(param.data.shape)) == 2):\n",
    "            #print('Layer',name, 'is', param.data.shape)\n",
    "            #print(torch.numel(param.data))\n",
    "            #print(weight_mat[mem_ind:mem_ind+torch.numel(param.data)].view(param.data.shape).shape)\n",
    "            param.data = weight_mat[mem_ind:mem_ind+torch.numel(param.data)].view(param.data.shape)\n",
    "            mem_ind = torch.numel(param.data)\n",
    "    \n"
   ]
  },
  {
   "cell_type": "code",
   "execution_count": 32,
   "metadata": {},
   "outputs": [
    {
     "name": "stdout",
     "output_type": "stream",
     "text": [
      "Shape of W:torch.Size([120, 1])\n",
      "Shape of P:torch.Size([120, 120])\n",
      "network MLP(\n",
      "  (fc1): Linear(in_features=1, out_features=10, bias=False)\n",
      "  (fc2): Linear(in_features=10, out_features=10, bias=False)\n",
      "  (fc3): Linear(in_features=10, out_features=1, bias=False)\n",
      ")\n",
      "torch.Size([120, 1])\n",
      "torch.Size([100, 1])\n",
      "torch.Size([100, 1])\n"
     ]
    }
   ],
   "source": [
    "# Define number of Input and Output layers\n",
    "torch.set_default_dtype(torch.float64)\n",
    "n_inputs = 1\n",
    "n_outputs = 1\n",
    "n_hidden_layer = 10\n",
    "mlp_EKF = MLP(n_inputs,n_hidden_layer, n_outputs, bias = False)\n",
    "mlp_EKF = mlp_EKF.to(device)\n",
    "n_epochs = 10\n",
    "\n",
    "\n",
    "# Define EKF covariances\n",
    "weight_mat = getWeights(mlp_EKF).to(device)\n",
    "print(f\"Shape of W:{weight_mat.shape}\")\n",
    "# System Noise or also known as training  noise  \n",
    "Q = 1e-6*torch.eye(weight_mat.shape[0],device=device, dtype=torch.float64)\n",
    "# Measurement noise or noise in targets \n",
    "R = 100*torch.eye(n_inputs,device=device, dtype=torch.float64)\n",
    "#Covariance Matrix\n",
    "P = 100*torch.eye(weight_mat.shape[0],device=device, dtype=torch.float64)\n",
    "print(f\"Shape of P:{P.shape}\")\n",
    "# setWeights(mlp_EKF, torch.ones(weight_mat.shape).to(device))\n",
    "\n",
    "print(f\"network {mlp_EKF}\")\n",
    "print(weight_mat.shape)\n",
    "print(x_train.shape)\n",
    "print(y_train.shape)"
   ]
  },
  {
   "cell_type": "code",
   "execution_count": 33,
   "metadata": {},
   "outputs": [
    {
     "data": {
      "image/png": "[encoded data removed]",
      "text/plain": [
       "<matplotlib.figure.Figure at 0x18297a2b278>"
      ]
     },
     "metadata": {},
     "output_type": "display_data"
    },
    {
     "data": {
      "image/png": "[encoded data removed]",
      "text/plain": [
       "<matplotlib.figure.Figure at 0x18297a2b278>"
      ]
     },
     "metadata": {
      "needs_background": "light"
     },
     "output_type": "display_data"
    }
   ],
   "source": [
    "x_train = torch.tensor(x_train, device=device, dtype=torch.float64)\n",
    "y_train = torch.tensor(y_train, device=device, dtype=torch.float64)\n",
    "\n",
    "ceLoss = nn.MSELoss(reduction='none')\n",
    "\n",
    "# Plotting before learning \n",
    "fig, ax = plt.subplots(1)\n",
    "ax.plot(x_train.cpu().numpy(), y_train.cpu().numpy(), '.')\n",
    "\n",
    "n_epochs = 20\n",
    "for epoch in range(n_epochs):\n",
    "    \n",
    "    outputs = [] \n",
    "    #Calling Backward for each sample\n",
    "    for i in range((x_train.shape[0])):\n",
    "#         print(f\"sample {i}\")\n",
    "#         print(\"Weight\",getWeights(mlp_EKF).to(device))\n",
    "        output = mlp_EKF(x_train[i])\n",
    "        outputs.append(output)\n",
    "        #print(\"Update for Batch\",i)\n",
    "        mlp_EKF.zero_grad()\n",
    "        output.backward(torch.ones_like(output))\n",
    "        #calculate loss\n",
    "        #print(output)\n",
    "        #print(y_train[i,-1])\n",
    "#         loss = ceLoss(output, y_train[i,-1]).view(1,-1)\n",
    "#         loss = torch.sqrt(loss)\n",
    "        loss = (y_train[i,-1]-output).view(1,1)\n",
    "#         print(f\"The output is :{output.item()} expected is :{y_train[i,-1]}\")\n",
    "#         print(\"Loss\", loss.shape)\n",
    "        #calculate gradients - calling backward()\n",
    "        #loss.backward()\n",
    "        # Should be stacked in a for loop for n_outputs > 1\n",
    "        H = getWeightsgrad(mlp_EKF).to(device).view(1,-1)\n",
    "#         print(\"Shape of Weight Grad Mat\", H.shape)\n",
    "#         print(f\"Shape of R:{R.shape}\")\n",
    "        #update weights using EKF filter Update\n",
    "        intermediate = torch.mm(torch.mm(H, P), torch.transpose(H,0,1))\n",
    "#         print(f\"shape of intermediate {intermediate.shape}\")\n",
    "#         print(f\"intermediate:{intermediate+R}\")\n",
    "        Ak = torch.inverse(R + intermediate)\n",
    "#         print(f\"shape of Ak:{Ak.shape}\")\n",
    "#         print(f\"Ak: {Ak}\")\n",
    "        #Ak = torch.ones(1).view(1,1).to(device)\n",
    "        Kk = torch.mm(torch.mm(P, torch.transpose(H,0,1)), Ak)\n",
    "#         print(f\"Kk matrix: {Kk}\")\n",
    "        #Kk = torch.ones((120,1)).to(device)\n",
    "        #print(weight_mat.shape)\n",
    "        #print(\"torch.inverse(Shape of Kalman gain\",Kk)\n",
    "        #print(\"Shape of loss\",loss.shape)\n",
    "        #print(\"Shape of mul term\",torch.mm(Kk, loss).shape)\n",
    "        #print(\"Weight Mat Shape\",weight_mat)\n",
    "        weight_mat = getWeights(mlp_EKF).to(device) + torch.mm(Kk, loss)\n",
    "        #print(\"Weight Mat Shape\",weight_mat.shape)\n",
    "        P = P + Q - torch.mm(torch.mm(Kk,H),P)\n",
    "#         print(f\"Updated P:{P}\")\n",
    "        setWeights(mlp_EKF,weight_mat)\n",
    "#     print(f\"Epoch loss:{loss}\")  \n",
    "    #print(\"Weight\",weight_mat)\n",
    "        \n",
    "    outputs = torch.cat(outputs, dim=0)\n",
    "    \n",
    "    #Plotting Output\n",
    "    ax.clear()\n",
    "    plt_x_train = x_train.cpu().detach().numpy()\n",
    "    plt_y_train = y_train.cpu().detach().numpy()\n",
    "    plt_outputs = outputs.cpu().detach().numpy()\n",
    "    ax.plot(plt_x_train, plt_y_train, '.')\n",
    "    ax.plot(plt_x_train, plt_outputs, 'r-')\n",
    "    ax.grid(True)\n",
    "    ax.set_title('Iteration %d/%d' % (epoch+1, n_epochs))\n",
    "    display.clear_output(wait=True)\n",
    "    display.display(fig)\n",
    "    plt.pause(0.005)\n",
    "    \n",
    "# display.clear_output(wait=True)"
   ]
  },
  {
   "cell_type": "markdown",
   "metadata": {},
   "source": [
    "# Appendix"
   ]
  },
  {
   "cell_type": "code",
   "execution_count": null,
   "metadata": {},
   "outputs": [],
   "source": []
  }
 ],
 "metadata": {
  "kernelspec": {
   "display_name": "Python 3",
   "language": "python",
   "name": "python3"
  },
  "language_info": {
   "codemirror_mode": {
    "name": "ipython",
    "version": 3
   },
   "file_extension": ".py",
   "mimetype": "text/x-python",
   "name": "python",
   "nbconvert_exporter": "python",
   "pygments_lexer": "ipython3",
   "version": "3.6.7"
  }
 },
 "nbformat": 4,
 "nbformat_minor": 2
}
