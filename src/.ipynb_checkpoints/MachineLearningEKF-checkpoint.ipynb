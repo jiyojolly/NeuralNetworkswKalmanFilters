{
 "cells": [
  {
   "cell_type": "markdown",
   "metadata": {},
   "source": [
    "# Machine learning using EKF"
   ]
  },
  {
   "cell_type": "code",
   "execution_count": 1,
   "metadata": {},
   "outputs": [],
   "source": [
    "from IPython import display\n",
    "import os\n",
    "import random\n",
    "import numpy as np\n",
    "import matplotlib.pyplot as plt\n",
    "%matplotlib inline\n",
    "import pandas as pd\n",
    "from sklearn.model_selection import train_test_split\n",
    "import seaborn as sns\n",
    "\n",
    "# Importing Pytorch libraries\n",
    "import torch\n",
    "import torch.nn as nn\n",
    "import torch.nn.functional as F"
   ]
  },
  {
   "cell_type": "code",
   "execution_count": 2,
   "metadata": {},
   "outputs": [
    {
     "name": "stdout",
     "output_type": "stream",
     "text": [
      "Current Directory: D:\\Projects\\NLP_Project\\NeuralNetworkswKalmanFilters\\src\n",
      "The data directory is ..\\data\n"
     ]
    }
   ],
   "source": [
    "# Select data directory\n",
    "print(\"Current Directory:\",os.getcwd())\n",
    "if os.path.isdir('/coursedata'):\n",
    "    course_data_dir = '/coursedata'\n",
    "elif os.path.isdir('..\\data/'):\n",
    "    course_data_dir = '..\\data'\n",
    "else:\n",
    "    # Specify course_data_dir on your machine\n",
    "    # course_data_dir = ...\n",
    "    # YOUR CODE HERE\n",
    "    raise NotImplementedError()\n",
    "\n",
    "print('The data directory is %s' % course_data_dir)"
   ]
  },
  {
   "cell_type": "code",
   "execution_count": 3,
   "metadata": {},
   "outputs": [
    {
     "name": "stdout",
     "output_type": "stream",
     "text": [
      "cuda:0\n"
     ]
    }
   ],
   "source": [
    "# Select device which you are going to use for training\n",
    "device = torch.device(\"cuda:0\" if torch.cuda.is_available() else \"cpu\")\n",
    "print(device)\n",
    "torch.set_default_dtype(torch.float32)"
   ]
  },
  {
   "cell_type": "markdown",
   "metadata": {},
   "source": [
    "### Import Data Sets\n",
    "Testing using a toy sine data"
   ]
  },
  {
   "cell_type": "code",
   "execution_count": 4,
   "metadata": {},
   "outputs": [
    {
     "data": {
      "text/plain": [
       "[<matplotlib.lines.Line2D at 0x21f3920c208>]"
      ]
     },
     "execution_count": 4,
     "metadata": {},
     "output_type": "execute_result"
    },
    {
     "data": {
      "image/png": "[encoded data removed]",
      "text/plain": [
       "<matplotlib.figure.Figure at 0x21f3920c198>"
      ]
     },
     "metadata": {
      "needs_background": "light"
     },
     "output_type": "display_data"
    }
   ],
   "source": [
    "# Let us generate toy data\n",
    "np.random.seed(2)\n",
    "x_train = np.random.randn(100, 1)\n",
    "x_train = np.sort(x_train, axis=0)\n",
    "y_train = np.sin(x_train * 2 * np.pi / 3)\n",
    "y_train = y_train + 0.2 * np.random.randn(*y_train.shape)\n",
    "\n",
    "# Plot the data\n",
    "fig, ax = plt.subplots(1)\n",
    "ax.plot(x_train, y_train, '.')"
   ]
  },
  {
   "cell_type": "markdown",
   "metadata": {},
   "source": [
    "## Data Preprocessing\n"
   ]
  },
  {
   "cell_type": "code",
   "execution_count": 5,
   "metadata": {},
   "outputs": [],
   "source": [
    "# from sklearn.preprocessing import StandardScaler\n",
    "# scaler = StandardScaler()\n",
    "\n",
    "# x_train_scaled = scaler.fit_transform(x_train)\n",
    "# x_test_scaled = scaler.transform(x_test)"
   ]
  },
  {
   "cell_type": "markdown",
   "metadata": {},
   "source": [
    "## Define Neural network"
   ]
  },
  {
   "cell_type": "code",
   "execution_count": 6,
   "metadata": {},
   "outputs": [],
   "source": [
    "class MLP(nn.Module):\n",
    "    def __init__(self, n_inputs, n_hidden_layer, n_outputs,bias=True):\n",
    "        super(MLP, self).__init__()\n",
    "        # YOUR CODE HERE\n",
    "        #raise NotImplementedError()\n",
    "        self.fc1 = nn.Linear(n_inputs, n_hidden_layer, bias)\n",
    "        self.fc2 = nn.Linear(n_hidden_layer, n_hidden_layer, bias)\n",
    "        self.fc3 = nn.Linear(n_hidden_layer, n_outputs, bias)\n",
    "        \n",
    "\n",
    "    def forward(self, x):\n",
    "        # YOUR CODE HERE\n",
    "        #raise NotImplementedError()\n",
    "        x = torch.tanh(self.fc1(x))\n",
    "        x = torch.tanh(self.fc2(x))\n",
    "        x = self.fc3(x)\n",
    "        return x    "
   ]
  },
  {
   "cell_type": "code",
   "execution_count": 7,
   "metadata": {},
   "outputs": [
    {
     "name": "stdout",
     "output_type": "stream",
     "text": [
      "MLP(\n",
      "  (fc1): Linear(in_features=1, out_features=100, bias=True)\n",
      "  (fc2): Linear(in_features=100, out_features=100, bias=True)\n",
      "  (fc3): Linear(in_features=100, out_features=1, bias=True)\n",
      ")\n"
     ]
    }
   ],
   "source": [
    "## Testing net\n",
    "n_inputs = 1\n",
    "n_outputs = 1\n",
    "n_hidden_layer = 100\n",
    "test_net = MLP(n_inputs, n_hidden_layer, n_outputs)\n",
    "print(test_net)"
   ]
  },
  {
   "cell_type": "code",
   "execution_count": 53,
   "metadata": {},
   "outputs": [
    {
     "data": {
      "image/png": "[encoded data removed]",
      "text/plain": [
       "<matplotlib.figure.Figure at 0x212060a0630>"
      ]
     },
     "metadata": {
      "needs_background": "light"
     },
     "output_type": "display_data"
    }
   ],
   "source": [
    "# Define number of Input and Output layers\n",
    "n_inputs = 1\n",
    "n_outputs = 1\n",
    "n_hidden_layer = 20\n",
    "mlp = MLP(n_inputs,n_hidden_layer, n_outputs)\n",
    "mpl = mlp.to(device)\n",
    "optimizer = torch.optim.Adam(mlp.parameters(), lr=0.005)\n",
    "n_epochs = 100\n",
    "\n",
    "train_accuracy_history = []\n",
    "test_accuracy_history = []\n",
    "\n",
    "x_train = torch.tensor(x_train, device=device, dtype=torch.float32)\n",
    "y_train = torch.tensor(y_train, device=device, dtype=torch.float32)\n",
    "\n",
    "ceLoss = nn.MSELoss()\n",
    "\n",
    "# Plotting before learning \n",
    "fig, ax = plt.subplots(1)\n",
    "ax.plot(x_train.cpu().numpy(), y_train.cpu().numpy(), '.')\n",
    "\n",
    "for epoch in range(n_epochs):\n",
    "    \n",
    "    #Set gradients as zero\n",
    "    mlp.zero_grad()\n",
    "    #Calculate outputs with forward()\n",
    "    #print(x_train)\n",
    "    outputs = mlp(x_train)   \n",
    "    \n",
    "    #calculate loss\n",
    "    loss = ceLoss(outputs, y_train)\n",
    "    #calculate gradients - calling backward()\n",
    "    loss.backward()\n",
    "    \n",
    "    #update weights using optimizer\n",
    "    optimizer.step()\n",
    " \n",
    "    ax.clear()\n",
    "    plt_x_train = x_train.cpu().detach().numpy()\n",
    "    plt_y_train = y_train.cpu().detach().numpy()\n",
    "    plt_outputs = outputs.cpu().detach().numpy()\n",
    "    ax.plot(plt_x_train, plt_y_train, '.')\n",
    "    ax.plot(plt_x_train, plt_outputs, 'r-')\n",
    "    ax.grid(True)\n",
    "    ax.set_title('Iteration %d/%d' % (epoch+1, n_epochs))\n",
    "    display.clear_output(wait=True)\n",
    "    display.display(fig)\n",
    "    plt.pause(0.005)\n",
    "display.clear_output(wait=True)"
   ]
  },
  {
   "cell_type": "markdown",
   "metadata": {},
   "source": [
    "## Using EKF for learning "
   ]
  },
  {
   "cell_type": "code",
   "execution_count": 8,
   "metadata": {},
   "outputs": [],
   "source": [
    "# #Calculate Weight size\n",
    "# weight_mat_size = 0\n",
    "# for i in range(len(layer_list)-1):\n",
    "#     weight_mat_size = weight_mat_size + (layer_list[i]*layer_list[i+1])\n",
    "        \n",
    "def getWeights(net):\n",
    "    weight_mat = []\n",
    "    for name,param in net.named_parameters():\n",
    "    \n",
    "        #print('Layer',name, 'is', param.data.shape)\n",
    "        if (len(list(param.data.shape)) == 2):\n",
    "            weight_mat.append(param.data.flatten())\n",
    "        \n",
    "    weight_mat = torch.cat(weight_mat, dim=0)       \n",
    "    #print('Shape of weight matrix', weight_mat.shape)\n",
    "    return weight_mat.view(-1, 1)\n",
    "\n",
    "def getWeightsgrad(net):\n",
    "    weight_grad_mat = []\n",
    "    for name,param in net.named_parameters():\n",
    "    \n",
    "        #print('Layer Grads',name, 'is', param.grad.shape)\n",
    "        if (len(list(param.grad.shape)) == 2):\n",
    "            weight_grad_mat.append(param.grad.flatten())\n",
    "        \n",
    "    weight_grad_mat = torch.cat(weight_grad_mat, dim=0)       \n",
    "    #print('Shape of weight matrix', weight_grad_mat.shape)   \n",
    "    return weight_grad_mat.view(-1, 1)\n",
    "\n",
    "def setWeights(net, weight_mat):\n",
    "    mem_ind = 0;\n",
    "    for name,param in net.named_parameters():\n",
    "        if (len(list(param.data.shape)) == 2):\n",
    "            #print('Layer',name, 'is', param.data.shape)\n",
    "            #print(torch.numel(param.data))\n",
    "            #print(weight_mat[mem_ind:mem_ind+torch.numel(param.data)].view(param.data.shape).shape)\n",
    "            param.data = weight_mat[mem_ind:mem_ind+torch.numel(param.data)].view(param.data.shape)\n",
    "            mem_ind = torch.numel(param.data)\n",
    "    \n",
    "def L1ErrorSigned(outputs,labels):\n",
    "    \n",
    "    return (labels-outputs)    \n"
   ]
  },
  {
   "cell_type": "code",
   "execution_count": 55,
   "metadata": {},
   "outputs": [
    {
     "name": "stdout",
     "output_type": "stream",
     "text": [
      "Printing network MLP(\n",
      "  (fc1): Linear(in_features=1, out_features=20, bias=False)\n",
      "  (fc2): Linear(in_features=20, out_features=20, bias=False)\n",
      "  (fc3): Linear(in_features=20, out_features=1, bias=False)\n",
      ")\n"
     ]
    }
   ],
   "source": [
    "torch.set_default_dtype(torch.float32)\n",
    "\n",
    "# Define number of Input and Output layers, Batch size\n",
    "n_inputs = 1\n",
    "n_hidden_layer = 20\n",
    "n_outputs = 1\n",
    "batch_size = 1\n",
    "mlp_EKF = MLP(n_inputs,n_hidden_layer, n_outputs, bias = False)\n",
    "mlp_EKF = mlp_EKF.to(device)\n",
    "n_epochs = 10\n",
    "\n",
    "print(\"Printing network\",mlp_EKF)\n",
    "\n",
    "# Define EKF covariances\n",
    "# System Noise or also known as training  noise  \n",
    "Q = 1e-6*torch.eye((getWeights(mlp_EKF).shape[0]),device=device)\n",
    "# Measurement noise or noise in targets / Learning rate\n",
    "R = 50*torch.eye(batch_size*n_outputs,device=device)\n",
    "#Covariance Matrix\n",
    "P = 100*torch.eye((getWeights(mlp_EKF).shape[0]),device=device)\n",
    "\n",
    "#n = getWeights(mlp_EKF).shape[0]\n",
    "\n"
   ]
  },
  {
   "cell_type": "code",
   "execution_count": 60,
   "metadata": {},
   "outputs": [
    {
     "data": {
      "image/png": "[encoded data removed]",
      "text/plain": [
       "<matplotlib.figure.Figure at 0x2120629e198>"
      ]
     },
     "metadata": {
      "needs_background": "light"
     },
     "output_type": "display_data"
    }
   ],
   "source": [
    "x_train = torch.tensor(x_train, device=device)\n",
    "y_train = torch.tensor(y_train, device=device)\n",
    "\n",
    "lossFcn = L1ErrorSigned\n",
    "\n",
    "# Plotting before learning \n",
    "fig, ax = plt.subplots(1)\n",
    "ax.plot(x_train.cpu().numpy(), y_train.cpu().numpy(), '.')\n",
    "\n",
    "\n",
    "for epoch in range(n_epochs):\n",
    "    \n",
    "    outputs = [] \n",
    "    #Calling Backward for each sample\n",
    "    for i in range((x_train.shape[0])):\n",
    "        \n",
    "        output = mlp_EKF(x_train[i])\n",
    "        outputs.append(output)\n",
    "        mlp_EKF.zero_grad()\n",
    "        #calculate gradients - calling backward()\n",
    "        output.backward()\n",
    "        #Calculate loss\n",
    "        loss = lossFcn(output, y_train[i,-1]).view(1,-1)\n",
    "        # EKF Equations\n",
    "        H = getWeightsgrad(mlp_EKF).to(device).view(1,-1)\n",
    "        Ak = torch.inverse(R + torch.mm(torch.mm(H, P), torch.transpose(H,0,1)))\n",
    "        Kk = torch.mm(torch.mm(P, torch.transpose(H,0,1)), Ak)\n",
    "        #Update Weights\n",
    "        weight_mat= getWeights(mlp_EKF).to(device)\n",
    "        weight_mat = weight_mat + torch.mm(Kk, loss)\n",
    "        setWeights(mlp_EKF,weight_mat)\n",
    "        P = P + Q - torch.mm(torch.mm(Kk,H),P)\n",
    "        \n",
    "    #Create predicted outputs\n",
    "    outputs = torch.cat(outputs, dim=0)\n",
    "    \n",
    "    #Plotting Output\n",
    "    ax.clear()\n",
    "    plt_x_train = x_train.cpu().detach().numpy()\n",
    "    plt_y_train = y_train.cpu().detach().numpy()\n",
    "    plt_outputs = outputs.cpu().detach().numpy()\n",
    "    ax.plot(plt_x_train, plt_y_train, '.')\n",
    "    ax.plot(plt_x_train, plt_outputs, 'r-')\n",
    "    ax.grid(True)\n",
    "    ax.set_title('Iteration %d/%d' % (epoch+1, n_epochs))\n",
    "    display.clear_output(wait=True)\n",
    "    display.display(fig)\n",
    "    plt.pause(0.005)\n",
    "    \n",
    "display.clear_output(wait=True)"
   ]
  },
  {
   "cell_type": "code",
   "execution_count": 66,
   "metadata": {},
   "outputs": [],
   "source": [
    "def set_sigma_points(m, P, lambda_ukf, n):\n",
    "    out = torch.zeros(n,2*n+1,device=device) \n",
    "    out[:,1] = m.view(-1)\n",
    "    indices = list(range(n))*2\n",
    "    #print(P[0,0])\n",
    "    #print(P)\n",
    "    L = torch.cholesky(P)\n",
    "    for i in range(n):\n",
    "        out[:,indices[i]] = m.view(-1) + torch.mul(L[:,i],torch.sqrt(torch.tensor(n,dtype=torch.float32) + lambda_ukf));\n",
    "        out[:,indices[i]+1] = m.view(-1) - torch.mul(L[:,i],torch.sqrt(torch.tensor(n,dtype=torch.float32) + lambda_ukf));\n",
    "        \n",
    "    return out\n",
    "\n",
    "def calculate_mean(W0, Wi, xhat):\n",
    "    n = xhat.shape[1]\n",
    "    mean = W0*xhat[:,0]\n",
    "    for i in range(1,n):\n",
    "        mean = mean + (Wi*xhat[:,i])\n",
    "    return mean\n",
    "\n",
    "def calculate_covariance(W0, Wi, xhat, mx, yhat, my, verbose = False):\n",
    "    n = xhat.shape[1]\n",
    "    covariance = W0*((xhat[:,0] - mx).view(-1,1))*torch.transpose((yhat[:,0] - my).view(-1,1),0,1)\n",
    "    if verbose is True: print(\"Shape of Cov Mat\", covariance.shape)\n",
    "    for i in range(1,n):\n",
    "        covariance = covariance + Wi*((xhat[:,i] - mx).view(-1,1))*torch.transpose((yhat[:,i] - my).view(-1,1),0,1)\n",
    "    if verbose is True: print(\"Shape of Cov Mat\", covariance.shape)\n",
    "    return covariance"
   ]
  },
  {
   "cell_type": "code",
   "execution_count": 103,
   "metadata": {},
   "outputs": [
    {
     "name": "stdout",
     "output_type": "stream",
     "text": [
      "Printing network MLP(\n",
      "  (fc1): Linear(in_features=1, out_features=20, bias=False)\n",
      "  (fc2): Linear(in_features=20, out_features=20, bias=False)\n",
      "  (fc3): Linear(in_features=20, out_features=1, bias=False)\n",
      ")\n"
     ]
    }
   ],
   "source": [
    "torch.set_default_dtype(torch.float32)\n",
    "\n",
    "# Define number of Input and Output layers, Batch size\n",
    "n_inputs = 1\n",
    "n_hidden_layer = 20\n",
    "n_outputs = 1\n",
    "batch_size = 1\n",
    "mlp_UKF = MLP(n_inputs,n_hidden_layer, n_outputs, bias = False)\n",
    "mlp_UKF = mlp_UKF.to(device)\n",
    "n_epochs = 10\n",
    "\n",
    "print(\"Printing network\",mlp_UKF)\n",
    "\n",
    "# Define EKF covariances\n",
    "# System Noise or also known as training  noise  \n",
    "Q = 1e-6*torch.eye((getWeights(mlp_UKF).shape[0]),device=device)\n",
    "# Measurement noise or noise in targets / Learning rate\n",
    "R = 50*torch.eye(batch_size*n_outputs,device=device)\n",
    "\n",
    "#UKF Design\n",
    "n_weights = getWeights(mlp_UKF).shape[0]\n",
    "\n",
    "alpha_ukf = 1\n",
    "kappa_ukf = 1\n",
    "beta_ukf  = 1\n",
    "\n",
    "lambda_ukf = alpha_ukf^2*(n_weights + kappa_ukf) - n_weights\n",
    "\n",
    "# Calculate UKF Weights\n",
    "W0m = lambda_ukf/(n_weights+lambda_ukf);\n",
    "Wim = 1/(2*(n_weights+lambda_ukf));\n",
    "\n",
    "W0c = (lambda_ukf/(n_weights + lambda_ukf))+(1 - (alpha_ukf^2) + beta_ukf);\n",
    "Wic = Wim;\n",
    "\n",
    "# storage for sigma points\n",
    "nsp = (2*n_weights)+1;\n",
    "\n",
    "xsp = torch.zeros(n_weights,nsp,device=device);\n",
    "xsu = torch.zeros(n_weights,nsp,device=device);\n",
    "\n",
    "# storage for xhat and yhat\n",
    "xhat = torch.zeros(n_weights,nsp,device=device);\n",
    "yhat = torch.zeros(1,nsp,device=device);\n",
    "\n",
    "#Initialize means and covariance\n",
    "mf = W0m*getWeights(mlp_UKF)\n",
    "Pf = 100*torch.eye((getWeights(mlp_UKF).shape[0]),device=device)\n",
    "#print(Pm)\n"
   ]
  },
  {
   "cell_type": "code",
   "execution_count": 104,
   "metadata": {},
   "outputs": [
    {
     "name": "stderr",
     "output_type": "stream",
     "text": [
      "C:\\Users\\jiyoj\\AppData\\Local\\conda\\conda\\envs\\dle\\lib\\site-packages\\ipykernel_launcher.py:1: UserWarning: To copy construct from a tensor, it is recommended to use sourceTensor.clone().detach() or sourceTensor.clone().detach().requires_grad_(True), rather than torch.tensor(sourceTensor).\n",
      "  \"\"\"Entry point for launching an IPython kernel.\n",
      "C:\\Users\\jiyoj\\AppData\\Local\\conda\\conda\\envs\\dle\\lib\\site-packages\\ipykernel_launcher.py:2: UserWarning: To copy construct from a tensor, it is recommended to use sourceTensor.clone().detach() or sourceTensor.clone().detach().requires_grad_(True), rather than torch.tensor(sourceTensor).\n",
      "  \n"
     ]
    },
    {
     "name": "stdout",
     "output_type": "stream",
     "text": [
      "S Mat tensor([[360.9597]], device='cuda:0')\n",
      "tensor(100., device='cuda:0')\n",
      "Pm tensor(149.7897, device='cuda:0')\n",
      "Kk First index tensor(-1.9749, device='cuda:0')\n",
      "Sk First index tensor(410.9597, device='cuda:0')\n",
      "Kk Transpose First index tensor(-1.9749, device='cuda:0')\n",
      "Sub Term tensor(1602.8708, device='cuda:0')\n",
      "tensor(-1453.0812, device='cuda:0')\n"
     ]
    },
    {
     "ename": "RuntimeError",
     "evalue": "MAGMA potrf : A(1,1) is 0, A cannot be factorized at c:\\a\\w\\1\\s\\tmp_conda_3.6_091443\\conda\\conda-bld\\pytorch_1544087948354\\work\\aten\\src\\thc\\generic/THCTensorMathMagma.cu:602",
     "output_type": "error",
     "traceback": [
      "\u001b[1;31m---------------------------------------------------------------------------\u001b[0m",
      "\u001b[1;31mRuntimeError\u001b[0m                              Traceback (most recent call last)",
      "\u001b[1;32m<ipython-input-104-8a16de45541b>\u001b[0m in \u001b[0;36m<module>\u001b[1;34m\u001b[0m\n\u001b[0;32m     17\u001b[0m             \u001b[1;31m#print(x_train[i])\u001b[0m\u001b[1;33m\u001b[0m\u001b[1;33m\u001b[0m\u001b[1;33m\u001b[0m\u001b[0m\n\u001b[0;32m     18\u001b[0m             \u001b[1;31m# UKF Equations\u001b[0m\u001b[1;33m\u001b[0m\u001b[1;33m\u001b[0m\u001b[1;33m\u001b[0m\u001b[0m\n\u001b[1;32m---> 19\u001b[1;33m             \u001b[0mxsp\u001b[0m \u001b[1;33m=\u001b[0m \u001b[0mset_sigma_points\u001b[0m\u001b[1;33m(\u001b[0m\u001b[0mmf\u001b[0m\u001b[1;33m,\u001b[0m\u001b[0mPf\u001b[0m\u001b[1;33m,\u001b[0m\u001b[0mlambda_ukf\u001b[0m\u001b[1;33m,\u001b[0m\u001b[0mn_weights\u001b[0m\u001b[1;33m)\u001b[0m\u001b[1;33m\u001b[0m\u001b[1;33m\u001b[0m\u001b[0m\n\u001b[0m\u001b[0;32m     20\u001b[0m             \u001b[0mmm\u001b[0m \u001b[1;33m=\u001b[0m \u001b[0mcalculate_mean\u001b[0m\u001b[1;33m(\u001b[0m\u001b[0mW0m\u001b[0m\u001b[1;33m,\u001b[0m \u001b[0mWim\u001b[0m\u001b[1;33m,\u001b[0m \u001b[0mxsp\u001b[0m\u001b[1;33m)\u001b[0m\u001b[1;33m\u001b[0m\u001b[1;33m\u001b[0m\u001b[0m\n\u001b[0;32m     21\u001b[0m             \u001b[1;31m#print(\"Shape of mm\",mm.shape)\u001b[0m\u001b[1;33m\u001b[0m\u001b[1;33m\u001b[0m\u001b[1;33m\u001b[0m\u001b[0m\n",
      "\u001b[1;32m<ipython-input-66-d5eb93066462>\u001b[0m in \u001b[0;36mset_sigma_points\u001b[1;34m(m, P, lambda_ukf, n)\u001b[0m\n\u001b[0;32m      5\u001b[0m     \u001b[1;31m#print(P[0,0])\u001b[0m\u001b[1;33m\u001b[0m\u001b[1;33m\u001b[0m\u001b[1;33m\u001b[0m\u001b[0m\n\u001b[0;32m      6\u001b[0m     \u001b[1;31m#print(P)\u001b[0m\u001b[1;33m\u001b[0m\u001b[1;33m\u001b[0m\u001b[1;33m\u001b[0m\u001b[0m\n\u001b[1;32m----> 7\u001b[1;33m     \u001b[0mL\u001b[0m \u001b[1;33m=\u001b[0m \u001b[0mtorch\u001b[0m\u001b[1;33m.\u001b[0m\u001b[0mcholesky\u001b[0m\u001b[1;33m(\u001b[0m\u001b[0mP\u001b[0m\u001b[1;33m)\u001b[0m\u001b[1;33m\u001b[0m\u001b[1;33m\u001b[0m\u001b[0m\n\u001b[0m\u001b[0;32m      8\u001b[0m     \u001b[1;32mfor\u001b[0m \u001b[0mi\u001b[0m \u001b[1;32min\u001b[0m \u001b[0mrange\u001b[0m\u001b[1;33m(\u001b[0m\u001b[0mn\u001b[0m\u001b[1;33m)\u001b[0m\u001b[1;33m:\u001b[0m\u001b[1;33m\u001b[0m\u001b[1;33m\u001b[0m\u001b[0m\n\u001b[0;32m      9\u001b[0m         \u001b[0mout\u001b[0m\u001b[1;33m[\u001b[0m\u001b[1;33m:\u001b[0m\u001b[1;33m,\u001b[0m\u001b[0mindices\u001b[0m\u001b[1;33m[\u001b[0m\u001b[0mi\u001b[0m\u001b[1;33m]\u001b[0m\u001b[1;33m]\u001b[0m \u001b[1;33m=\u001b[0m \u001b[0mm\u001b[0m\u001b[1;33m.\u001b[0m\u001b[0mview\u001b[0m\u001b[1;33m(\u001b[0m\u001b[1;33m-\u001b[0m\u001b[1;36m1\u001b[0m\u001b[1;33m)\u001b[0m \u001b[1;33m+\u001b[0m \u001b[0mtorch\u001b[0m\u001b[1;33m.\u001b[0m\u001b[0mmul\u001b[0m\u001b[1;33m(\u001b[0m\u001b[0mL\u001b[0m\u001b[1;33m[\u001b[0m\u001b[1;33m:\u001b[0m\u001b[1;33m,\u001b[0m\u001b[0mi\u001b[0m\u001b[1;33m]\u001b[0m\u001b[1;33m,\u001b[0m\u001b[0mtorch\u001b[0m\u001b[1;33m.\u001b[0m\u001b[0msqrt\u001b[0m\u001b[1;33m(\u001b[0m\u001b[0mtorch\u001b[0m\u001b[1;33m.\u001b[0m\u001b[0mtensor\u001b[0m\u001b[1;33m(\u001b[0m\u001b[0mn\u001b[0m\u001b[1;33m,\u001b[0m\u001b[0mdtype\u001b[0m\u001b[1;33m=\u001b[0m\u001b[0mtorch\u001b[0m\u001b[1;33m.\u001b[0m\u001b[0mfloat32\u001b[0m\u001b[1;33m)\u001b[0m \u001b[1;33m+\u001b[0m \u001b[0mlambda_ukf\u001b[0m\u001b[1;33m)\u001b[0m\u001b[1;33m)\u001b[0m\u001b[1;33m;\u001b[0m\u001b[1;33m\u001b[0m\u001b[1;33m\u001b[0m\u001b[0m\n",
      "\u001b[1;31mRuntimeError\u001b[0m: MAGMA potrf : A(1,1) is 0, A cannot be factorized at c:\\a\\w\\1\\s\\tmp_conda_3.6_091443\\conda\\conda-bld\\pytorch_1544087948354\\work\\aten\\src\\thc\\generic/THCTensorMathMagma.cu:602"
     ]
    },
    {
     "data": {
      "image/png": "[encoded data removed]",
      "text/plain": [
       "<matplotlib.figure.Figure at 0x21f095cb438>"
      ]
     },
     "metadata": {
      "needs_background": "light"
     },
     "output_type": "display_data"
    }
   ],
   "source": [
    "x_train = torch.tensor(x_train, device=device,dtype=torch.float32)\n",
    "y_train = torch.tensor(y_train, device=device,dtype=torch.float32)\n",
    "\n",
    "lossFcn = L1ErrorSigned\n",
    "\n",
    "# Plotting before learning \n",
    "fig, ax = plt.subplots(1)\n",
    "ax.plot(x_train.cpu().numpy(), y_train.cpu().numpy(), '.')\n",
    "\n",
    "with torch.no_grad():\n",
    "    for epoch in range(n_epochs):\n",
    "\n",
    "        outputs = [] \n",
    "        #Calling Backward for each sample\n",
    "        for i in range((x_train.shape[0])):\n",
    "\n",
    "            #print(x_train[i])\n",
    "            # UKF Equations\n",
    "            xsp = set_sigma_points(mf,Pf,lambda_ukf,n_weights)\n",
    "            mm = calculate_mean(W0m, Wim, xsp)\n",
    "            #print(\"Shape of mm\",mm.shape)\n",
    "            Pm = calculate_covariance(W0c, Wic, xsp, mm, xsp, mm)\n",
    "            #print(Pm)\n",
    "            Pm = Pm + Q\n",
    "\n",
    "            xsu = set_sigma_points(mm,Pm,lambda_ukf,n_weights)\n",
    "\n",
    "            # propagate through measurement model\n",
    "            for j in range(nsp):\n",
    "                setWeights(mlp_UKF, xsu[:,j])\n",
    "                yhat[:,j] = mlp_UKF(x_train[i])\n",
    "    #         outputs.append(output)\n",
    "\n",
    "            mu = calculate_mean(W0m,Wim,yhat)\n",
    "            S = calculate_covariance(W0c,Wic,yhat,mu,yhat,mu,False)\n",
    "            #print(\"S Mat\",S)\n",
    "            S = S + R\n",
    "            C = calculate_covariance(W0c,Wic,xsu, mm, yhat, mu,False)\n",
    "            #print(\"C Mat\",C)\n",
    "            Kk = C*torch.inverse(S)\n",
    "            print(\"Kk Mat\",Kk)\n",
    "\n",
    "            #Calculate loss\n",
    "            loss = lossFcn(mu, y_train[i,-1]).view(1,-1)\n",
    "            #Update Weights\n",
    "            #print(\"Shape of mm\",mm.shape)\n",
    "            #print(\"shape of matmul\", torch.mm(Kk, loss).shape)\n",
    "            #print(\"Pf\",Pf[0][0])\n",
    "            mm = mm + torch.mm(Kk,loss)\n",
    "            diff = torch.mm(torch.mm(Kk,S),torch.transpose(Kk,0,1))\n",
    "            print(Pf[0][0])\n",
    "            print(\"Pm\",Pm[0][0])\n",
    "            print(\"Kk First index\",Kk[0][0])\n",
    "            print(\"Sk First index\",S[0][0])\n",
    "            print(\"Kk Transpose First index\",torch.transpose(Kk,0,1)[0][0])\n",
    "            print(\"Sub Term\",(torch.mm(torch.mm(Kk,S),torch.transpose(Kk,0,1)))[0][0])\n",
    "            Pf = Pm - torch.mm(torch.mm(Kk,S),torch.transpose(Kk,0,1))\n",
    "            print(Pf[0][0])\n",
    "            \n",
    "\n",
    "            #print(\"Shape of mm\",mm.shape)\n",
    "    #         setWeights(mlp_UKF,mm)    \n",
    "    #         #Create predicted outputs\n",
    "    #         outputs =  mlp_UKF(x_train)\n",
    "\n",
    "\n",
    "        setWeights(mlp_UKF,mm)    \n",
    "        #Create predicted outputs\n",
    "        outputs =  mlp_UKF(x_train)\n",
    "\n",
    "        #Plotting Output\n",
    "        ax.clear()\n",
    "        plt_x_train = x_train.cpu().detach().numpy()\n",
    "        plt_y_train = y_train.cpu().detach().numpy()\n",
    "        plt_outputs = outputs.cpu().detach().numpy()\n",
    "        ax.plot(plt_x_train, plt_y_train, '.')\n",
    "        ax.plot(plt_x_train, plt_outputs, 'r-')\n",
    "        ax.grid(True)\n",
    "        ax.set_title('Iteration %d/%d' % (epoch+1, n_epochs))\n",
    "        display.clear_output(wait=True)\n",
    "        display.display(fig)\n",
    "        plt.pause(0.005)\n",
    "\n",
    "    display.clear_output(wait=True)"
   ]
  },
  {
   "cell_type": "markdown",
   "metadata": {},
   "source": [
    "# Appendix"
   ]
  },
  {
   "cell_type": "code",
   "execution_count": null,
   "metadata": {},
   "outputs": [],
   "source": []
  }
 ],
 "metadata": {
  "kernelspec": {
   "display_name": "Python 3",
   "language": "python",
   "name": "python3"
  },
  "language_info": {
   "codemirror_mode": {
    "name": "ipython",
    "version": 3
   },
   "file_extension": ".py",
   "mimetype": "text/x-python",
   "name": "python",
   "nbconvert_exporter": "python",
   "pygments_lexer": "ipython3",
   "version": "3.6.7"
  }
 },
 "nbformat": 4,
 "nbformat_minor": 2
}
