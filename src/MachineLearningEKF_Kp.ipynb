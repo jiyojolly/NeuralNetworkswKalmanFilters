{
 "cells": [
  {
   "cell_type": "markdown",
   "metadata": {},
   "source": [
    "# Machine learning using EKF"
   ]
  },
  {
   "cell_type": "code",
   "execution_count": 1,
   "metadata": {},
   "outputs": [],
   "source": [
    "from IPython import display\n",
    "import os\n",
    "import random\n",
    "import numpy as np\n",
    "import matplotlib.pyplot as plt\n",
    "%matplotlib inline\n",
    "import pandas as pd\n",
    "from sklearn.model_selection import train_test_split\n",
    "import seaborn as sns\n",
    "\n",
    "# Importing Pytorch libraries\n",
    "import torch\n",
    "import torch.nn as nn\n",
    "import torch.nn.functional as F\n",
    "import torchvision.transforms as transforms\n",
    "import torchvision\n",
    "import torch.optim as optim"
   ]
  },
  {
   "cell_type": "code",
   "execution_count": 2,
   "metadata": {},
   "outputs": [
    {
     "name": "stdout",
     "output_type": "stream",
     "text": [
      "Current Directory: D:\\From Web\\STUDIES\\EKF\n",
      "The data directory is \\EKF\n"
     ]
    }
   ],
   "source": [
    "# Select data directory\n",
    "print(\"Current Directory:\",os.getcwd())\n",
    "if os.path.isdir('/coursedata'):\n",
    "    course_data_dir = '/coursedata'\n",
    "elif os.path.isdir('..\\data/'):\n",
    "    course_data_dir = '..\\data'\n",
    "else:\n",
    "    # Specify course_data_dir on your machine\n",
    "    # course_data_dir = ...\n",
    "    # YOUR CODE HERE\n",
    "    raise NotImplementedError()\n",
    "\n",
    "print('The data directory is %s' % course_data_dir)"
   ]
  },
  {
   "cell_type": "code",
   "execution_count": 3,
   "metadata": {},
   "outputs": [
    {
     "name": "stdout",
     "output_type": "stream",
     "text": [
      "cuda:0\n"
     ]
    }
   ],
   "source": [
    "# Select device which you are going to use for training\n",
    "device = torch.device(\"cuda:0\" if torch.cuda.is_available() else \"cpu\")\n",
    "print(device)"
   ]
  },
  {
   "cell_type": "markdown",
   "metadata": {},
   "source": [
    "### Import Data Sets\n",
    "Testing using a toy sine data"
   ]
  },
  {
   "cell_type": "code",
   "execution_count": 4,
   "metadata": {},
   "outputs": [
    {
     "name": "stdout",
     "output_type": "stream",
     "text": [
      "Data stored in \\EKF\\fashion_mnist\n"
     ]
    }
   ],
   "source": [
    "transform = transforms.Compose([\n",
    "    transforms.ToTensor(),  # Transform to tensor\n",
    "    transforms.Normalize((0.5,), (0.5,))  # Min-max scaling to [-1, 1]\n",
    "])\n",
    "\n",
    "data_dir = os.path.join(course_data_dir, 'fashion_mnist')\n",
    "print('Data stored in %s' % data_dir)\n",
    "trainset = torchvision.datasets.FashionMNIST(root=data_dir, train=True, download=True, transform=transform)\n",
    "testset = torchvision.datasets.FashionMNIST(root=data_dir, train=False, download=True, transform=transform)\n",
    "\n",
    "classes = ['T-shirt/top', 'Trouser', 'Pullover', 'Dress', 'Coat', 'Sandal',\n",
    "           'Shirt', 'Sneaker', 'Bag', 'Ankle boot']\n",
    "\n",
    "trainloader = torch.utils.data.DataLoader(trainset, batch_size=10, shuffle=True)\n",
    "testloader = torch.utils.data.DataLoader(testset, batch_size=5, shuffle=False)"
   ]
  },
  {
   "cell_type": "code",
   "execution_count": 5,
   "metadata": {},
   "outputs": [],
   "source": [
    "def plot_images(images, n_rows=1):\n",
    "    fig, axs = plt.subplots(n_rows, images.size(0) // n_rows)\n",
    "    for ax, img in zip(axs.flat, images):\n",
    "        ax.matshow(img[0].cpu().numpy(), cmap=plt.cm.Greys)\n",
    "        ax.set_xticks([])\n",
    "        ax.set_yticks([])\n",
    "        ax.tick_params(axis='x', which='both', bottom=False, top=False, labelbottom=False)\n",
    "    plt.tight_layout(w_pad=0)"
   ]
  },
  {
   "cell_type": "code",
   "execution_count": 6,
   "metadata": {},
   "outputs": [
    {
     "data": {
      "image/png": "[encoded data removed]",
      "text/plain": [
       "<Figure size 432x288 with 8 Axes>"
      ]
     },
     "metadata": {},
     "output_type": "display_data"
    }
   ],
   "source": [
    "# get some random training images\n",
    "dataiter = iter(trainloader)\n",
    "images, labels = dataiter.next()\n",
    "plot_images(images[:8], n_rows=2)"
   ]
  },
  {
   "cell_type": "markdown",
   "metadata": {},
   "source": [
    "## Data Preprocessing\n"
   ]
  },
  {
   "cell_type": "code",
   "execution_count": 7,
   "metadata": {},
   "outputs": [],
   "source": [
    "# from sklearn.preprocessing import StandardScaler\n",
    "# scaler = StandardScaler()\n",
    "\n",
    "# x_train_scaled = scaler.fit_transform(x_train)\n",
    "# x_test_scaled = scaler.transform(x_test)"
   ]
  },
  {
   "cell_type": "markdown",
   "metadata": {},
   "source": [
    "## Define Neural network"
   ]
  },
  {
   "cell_type": "code",
   "execution_count": 8,
   "metadata": {},
   "outputs": [],
   "source": [
    "class MLP(nn.Module):\n",
    "    def __init__(self, n_inputs, n_hidden_layer,n_outputs,bias=True):\n",
    "        super(MLP, self).__init__()\n",
    "\n",
    "        self.fc1 = nn.Linear(n_inputs,n_hidden_layer, bias)\n",
    "        self.fc2 = nn.Linear(n_hidden_layer, n_outputs ,bias)\n",
    "\n",
    "        \n",
    "\n",
    "    def forward(self, x):\n",
    "        \n",
    "        x = F.relu(self.fc1(x))\n",
    "        x = (self.fc2(x))\n",
    "        return x"
   ]
  },
  {
   "cell_type": "code",
   "execution_count": 9,
   "metadata": {},
   "outputs": [
    {
     "data": {
      "text/plain": [
       "MLP(\n",
       "  (fc1): Linear(in_features=784, out_features=32, bias=True)\n",
       "  (fc2): Linear(in_features=32, out_features=16, bias=True)\n",
       ")"
      ]
     },
     "execution_count": 9,
     "metadata": {},
     "output_type": "execute_result"
    }
   ],
   "source": [
    "## Testing net\n",
    "n_inputs = 784\n",
    "n_outputs = 16\n",
    "n_hidden_layer = 32\n",
    "test_net = MLP(n_inputs, n_hidden_layer,n_outputs)\n",
    "test_net.to(device)\n",
    "# print(test_net)"
   ]
  },
  {
   "cell_type": "code",
   "execution_count": 10,
   "metadata": {},
   "outputs": [],
   "source": [
    "criterion = nn.CrossEntropyLoss()\n",
    "optimizer = optim.SGD(test_net.parameters(), lr=0.001, momentum=0.9)"
   ]
  },
  {
   "cell_type": "code",
   "execution_count": 11,
   "metadata": {},
   "outputs": [],
   "source": [
    "# This function computes the accuracy on the test dataset\n",
    "def compute_accuracy(net, testloader):\n",
    "    test_net.eval()\n",
    "    correct = 0\n",
    "    total = 0\n",
    "    with torch.no_grad():\n",
    "        for images, labels in testloader:\n",
    "            images, labels = images.to(device), labels.to(device)\n",
    "            #print(images.size())\n",
    "            outputs = test_net(images.view(-1,784))\n",
    "            _, predicted = torch.max(outputs.data, 1)\n",
    "            total += labels.size(0)\n",
    "            correct += (predicted == labels).sum().item()\n",
    "    return correct / total"
   ]
  },
  {
   "cell_type": "code",
   "execution_count": null,
   "metadata": {},
   "outputs": [],
   "source": [
    "n_epochs=10\n",
    "for epoch in range(n_epochs):\n",
    "    running_loss = 0.0\n",
    "    print_every = 200  # mini-batches\n",
    "    for i, (inputs, labels) in enumerate(trainloader, 0):\n",
    "        # Transfer to GPU\n",
    "        inputs, labels = inputs.to(device), labels.to(device)\n",
    "        #inputs= torch.tensor(inputs,device=device,dtype=torch.double)\n",
    "        #print(inputs.size())\n",
    "        inputs=inputs.view(-1,784)\n",
    "        # zero the parameter gradients\n",
    "        optimizer.zero_grad()\n",
    "\n",
    "        # forward + backward + optimize\n",
    "        outputs = test_net(inputs)\n",
    "#         print(outputs.size())\n",
    "#         print(labels.size())\n",
    "        loss = criterion(outputs, labels)\n",
    "        loss.backward()\n",
    "        optimizer.step()\n",
    "\n",
    "        # print statistics\n",
    "        running_loss += loss.item()\n",
    "        if (i % print_every) == (print_every-1):\n",
    "            print('[%d, %5d] loss: %.3f' % (epoch+1, i+1, running_loss/print_every))\n",
    "            running_loss = 0.0\n",
    "#         if skip_training:\n",
    "#             break\n",
    "\n",
    "#     # Print accuracy after every epoch\n",
    "    accuracy = compute_accuracy(test_net, testloader)\n",
    "    print('Accuracy of the network on the test images: %.3f' % accuracy)\n",
    "\n",
    "# #     if skip_training:\n",
    "# #         break\n",
    "\n",
    "print('Finished Training')"
   ]
  },
  {
   "cell_type": "markdown",
   "metadata": {},
   "source": [
    "## Using EKF for learning "
   ]
  },
  {
   "cell_type": "code",
   "execution_count": 21,
   "metadata": {},
   "outputs": [],
   "source": [
    "# #Calculate Weight size\n",
    "# weight_mat_size = 0\n",
    "# for i in range(len(layer_list)-1):\n",
    "#     weight_mat_size = weight_mat_size + (layer_list[i]*layer_list[i+1])\n",
    "        \n",
    "def getWeights(net):\n",
    "    weight_mat = []\n",
    "    for name,param in net.named_parameters():\n",
    "    \n",
    "        #print('Layer',name, 'is', param.data.shape)\n",
    "        if (len(list(param.data.shape)) == 2):\n",
    "            weight_mat.append(param.data.flatten())\n",
    "        \n",
    "    weight_mat = torch.cat(weight_mat, dim=0)       \n",
    "    #print('Shape of weight matrix', weight_mat.shape)\n",
    "    return weight_mat.view(-1, 1)\n",
    "\n",
    "def getWeightsgrad(net):\n",
    "    weight_grad_mat = []\n",
    "    for name,param in net.named_parameters():\n",
    "    \n",
    "        #print('Layer Grads',name, 'is', param.grad.shape)\n",
    "        if (len(list(param.grad.shape)) == 2):\n",
    "            weight_grad_mat.append(param.grad.flatten())\n",
    "        \n",
    "    weight_grad_mat = torch.cat(weight_grad_mat, dim=0)       \n",
    "    #print('Shape of weight matrix', weight_grad_mat.shape)   \n",
    "    return weight_grad_mat.view(-1, 1)\n",
    "\n",
    "def setWeights(net, weight_mat):\n",
    "    mem_ind = 0;\n",
    "    for name,param in net.named_parameters():\n",
    "        if (len(list(param.data.shape)) == 2):\n",
    "            #print('Layer',name, 'is', param.data.shape)\n",
    "            #print(torch.numel(param.data))\n",
    "            #print(weight_mat[mem_ind:mem_ind+torch.numel(param.data)].view(param.data.shape).shape)\n",
    "            param.data = weight_mat[mem_ind:mem_ind+torch.numel(param.data)].view(param.data.shape)\n",
    "            mem_ind = torch.numel(param.data)\n",
    "    \n"
   ]
  },
  {
   "cell_type": "code",
   "execution_count": 26,
   "metadata": {},
   "outputs": [
    {
     "name": "stdout",
     "output_type": "stream",
     "text": [
      "Printing network MLP(\n",
      "  (fc1): Linear(in_features=784, out_features=10, bias=False)\n",
      "  (fc2): Linear(in_features=10, out_features=10, bias=False)\n",
      ")\n",
      "torch.Size([7940, 7940])\n"
     ]
    }
   ],
   "source": [
    "# Define number of Input and Output layers\n",
    "device='cpu'\n",
    "torch.set_default_dtype(torch.float32)\n",
    "n_inputs = 784\n",
    "n_outputs=10\n",
    "batch_size=10\n",
    "n_hidden_layer = 10\n",
    "mlp_EKF = MLP(n_inputs,n_hidden_layer,n_outputs,bias = False)\n",
    "mlp_EKF = mlp_EKF.to(device)\n",
    "n_epochs = 1\n",
    "\n",
    "print(\"Printing network\",mlp_EKF)\n",
    "\n",
    "# Define EKF covariances\n",
    "#weight_mat = getWeights(mlp_EKF).to(device)\n",
    "# System Noise or also known as training  noise  \n",
    "\n",
    "Q = 1e-6*torch.eye((getWeights(mlp_EKF).shape[0]),device=device, dtype=torch.float32)\n",
    "# Measurement noise or noise in targets / Learning rate\n",
    "R = 10*torch.eye(batch_size*n_outputs,device=device, dtype=torch.float32)\n",
    "#Covariance Matrix\n",
    "P = 100*torch.eye((getWeights(mlp_EKF).shape[0]),device=device, dtype=torch.float32)\n",
    "print(P.size())\n",
    "\n",
    "#print(weight_mat.shape)\n",
    "#print(x_train.shape)\n",
    "#print(y_train.shape)"
   ]
  },
  {
   "cell_type": "code",
   "execution_count": 27,
   "metadata": {},
   "outputs": [],
   "source": [
    "def err_loss(outputs,labels):\n",
    "    \n",
    "    return (labels-outputs)\n"
   ]
  },
  {
   "cell_type": "code",
   "execution_count": 28,
   "metadata": {},
   "outputs": [],
   "source": [
    "# def cross_err_loss(outputs,labels):\n",
    "#     loss= torch.sqrt(-(labels*torch.log(outputs)+(torch.ones(labels.shape[0])-labels)*torch.log(torch.ones(labels.shape[0])-outputs)))\n",
    "#     return loss     \n",
    "cross_err_loss=nn.BCEWithLogitsLoss(reduction='none')\n",
    "                    "
   ]
  },
  {
   "cell_type": "code",
   "execution_count": 29,
   "metadata": {},
   "outputs": [
    {
     "name": "stderr",
     "output_type": "stream",
     "text": [
      "C:\\Users\\Krishnananda Prabhu\\Anaconda3\\lib\\site-packages\\ipykernel_launcher.py:23: UserWarning: To copy construct from a tensor, it is recommended to use sourceTensor.clone().detach() or sourceTensor.clone().detach().requires_grad_(True), rather than torch.tensor(sourceTensor).\n",
      "C:\\Users\\Krishnananda Prabhu\\Anaconda3\\lib\\site-packages\\ipykernel_launcher.py:24: UserWarning: To copy construct from a tensor, it is recommended to use sourceTensor.clone().detach() or sourceTensor.clone().detach().requires_grad_(True), rather than torch.tensor(sourceTensor).\n"
     ]
    },
    {
     "name": "stdout",
     "output_type": "stream",
     "text": [
      "Net loss tensor(0.6950, grad_fn=<MeanBackward1>)\n",
      "Shape of Kalman gain torch.Size([7940, 100])\n"
     ]
    },
    {
     "name": "stderr",
     "output_type": "stream",
     "text": [
      "C:\\Users\\Krishnananda Prabhu\\Anaconda3\\lib\\site-packages\\ipykernel_launcher.py:23: UserWarning: To copy construct from a tensor, it is recommended to use sourceTensor.clone().detach() or sourceTensor.clone().detach().requires_grad_(True), rather than torch.tensor(sourceTensor).\n",
      "C:\\Users\\Krishnananda Prabhu\\Anaconda3\\lib\\site-packages\\ipykernel_launcher.py:24: UserWarning: To copy construct from a tensor, it is recommended to use sourceTensor.clone().detach() or sourceTensor.clone().detach().requires_grad_(True), rather than torch.tensor(sourceTensor).\n"
     ]
    },
    {
     "name": "stdout",
     "output_type": "stream",
     "text": [
      "Net loss tensor(0.7222, grad_fn=<MeanBackward1>)\n",
      "Shape of Kalman gain torch.Size([7940, 100])\n"
     ]
    },
    {
     "name": "stderr",
     "output_type": "stream",
     "text": [
      "C:\\Users\\Krishnananda Prabhu\\Anaconda3\\lib\\site-packages\\ipykernel_launcher.py:23: UserWarning: To copy construct from a tensor, it is recommended to use sourceTensor.clone().detach() or sourceTensor.clone().detach().requires_grad_(True), rather than torch.tensor(sourceTensor).\n",
      "C:\\Users\\Krishnananda Prabhu\\Anaconda3\\lib\\site-packages\\ipykernel_launcher.py:24: UserWarning: To copy construct from a tensor, it is recommended to use sourceTensor.clone().detach() or sourceTensor.clone().detach().requires_grad_(True), rather than torch.tensor(sourceTensor).\n"
     ]
    },
    {
     "name": "stdout",
     "output_type": "stream",
     "text": [
      "Net loss tensor(0.6562, grad_fn=<MeanBackward1>)\n",
      "Shape of Kalman gain torch.Size([7940, 100])\n"
     ]
    },
    {
     "name": "stderr",
     "output_type": "stream",
     "text": [
      "C:\\Users\\Krishnananda Prabhu\\Anaconda3\\lib\\site-packages\\ipykernel_launcher.py:23: UserWarning: To copy construct from a tensor, it is recommended to use sourceTensor.clone().detach() or sourceTensor.clone().detach().requires_grad_(True), rather than torch.tensor(sourceTensor).\n",
      "C:\\Users\\Krishnananda Prabhu\\Anaconda3\\lib\\site-packages\\ipykernel_launcher.py:24: UserWarning: To copy construct from a tensor, it is recommended to use sourceTensor.clone().detach() or sourceTensor.clone().detach().requires_grad_(True), rather than torch.tensor(sourceTensor).\n"
     ]
    },
    {
     "name": "stdout",
     "output_type": "stream",
     "text": [
      "Net loss tensor(0.7987, grad_fn=<MeanBackward1>)\n",
      "Shape of Kalman gain torch.Size([7940, 100])\n"
     ]
    },
    {
     "name": "stderr",
     "output_type": "stream",
     "text": [
      "C:\\Users\\Krishnananda Prabhu\\Anaconda3\\lib\\site-packages\\ipykernel_launcher.py:23: UserWarning: To copy construct from a tensor, it is recommended to use sourceTensor.clone().detach() or sourceTensor.clone().detach().requires_grad_(True), rather than torch.tensor(sourceTensor).\n",
      "C:\\Users\\Krishnananda Prabhu\\Anaconda3\\lib\\site-packages\\ipykernel_launcher.py:24: UserWarning: To copy construct from a tensor, it is recommended to use sourceTensor.clone().detach() or sourceTensor.clone().detach().requires_grad_(True), rather than torch.tensor(sourceTensor).\n"
     ]
    },
    {
     "name": "stdout",
     "output_type": "stream",
     "text": [
      "Net loss tensor(0.8291, grad_fn=<MeanBackward1>)\n",
      "Shape of Kalman gain torch.Size([7940, 100])\n"
     ]
    },
    {
     "name": "stderr",
     "output_type": "stream",
     "text": [
      "C:\\Users\\Krishnananda Prabhu\\Anaconda3\\lib\\site-packages\\ipykernel_launcher.py:23: UserWarning: To copy construct from a tensor, it is recommended to use sourceTensor.clone().detach() or sourceTensor.clone().detach().requires_grad_(True), rather than torch.tensor(sourceTensor).\n",
      "C:\\Users\\Krishnananda Prabhu\\Anaconda3\\lib\\site-packages\\ipykernel_launcher.py:24: UserWarning: To copy construct from a tensor, it is recommended to use sourceTensor.clone().detach() or sourceTensor.clone().detach().requires_grad_(True), rather than torch.tensor(sourceTensor).\n"
     ]
    },
    {
     "name": "stdout",
     "output_type": "stream",
     "text": [
      "Net loss tensor(0.9729, grad_fn=<MeanBackward1>)\n",
      "Shape of Kalman gain torch.Size([7940, 100])\n"
     ]
    },
    {
     "name": "stderr",
     "output_type": "stream",
     "text": [
      "C:\\Users\\Krishnananda Prabhu\\Anaconda3\\lib\\site-packages\\ipykernel_launcher.py:23: UserWarning: To copy construct from a tensor, it is recommended to use sourceTensor.clone().detach() or sourceTensor.clone().detach().requires_grad_(True), rather than torch.tensor(sourceTensor).\n",
      "C:\\Users\\Krishnananda Prabhu\\Anaconda3\\lib\\site-packages\\ipykernel_launcher.py:24: UserWarning: To copy construct from a tensor, it is recommended to use sourceTensor.clone().detach() or sourceTensor.clone().detach().requires_grad_(True), rather than torch.tensor(sourceTensor).\n"
     ]
    },
    {
     "name": "stdout",
     "output_type": "stream",
     "text": [
      "Net loss tensor(1.2394, grad_fn=<MeanBackward1>)\n",
      "Shape of Kalman gain torch.Size([7940, 100])\n"
     ]
    },
    {
     "name": "stderr",
     "output_type": "stream",
     "text": [
      "C:\\Users\\Krishnananda Prabhu\\Anaconda3\\lib\\site-packages\\ipykernel_launcher.py:23: UserWarning: To copy construct from a tensor, it is recommended to use sourceTensor.clone().detach() or sourceTensor.clone().detach().requires_grad_(True), rather than torch.tensor(sourceTensor).\n",
      "C:\\Users\\Krishnananda Prabhu\\Anaconda3\\lib\\site-packages\\ipykernel_launcher.py:24: UserWarning: To copy construct from a tensor, it is recommended to use sourceTensor.clone().detach() or sourceTensor.clone().detach().requires_grad_(True), rather than torch.tensor(sourceTensor).\n"
     ]
    },
    {
     "name": "stdout",
     "output_type": "stream",
     "text": [
      "Net loss tensor(2.6476, grad_fn=<MeanBackward1>)\n",
      "Shape of Kalman gain torch.Size([7940, 100])\n"
     ]
    },
    {
     "name": "stderr",
     "output_type": "stream",
     "text": [
      "C:\\Users\\Krishnananda Prabhu\\Anaconda3\\lib\\site-packages\\ipykernel_launcher.py:23: UserWarning: To copy construct from a tensor, it is recommended to use sourceTensor.clone().detach() or sourceTensor.clone().detach().requires_grad_(True), rather than torch.tensor(sourceTensor).\n",
      "C:\\Users\\Krishnananda Prabhu\\Anaconda3\\lib\\site-packages\\ipykernel_launcher.py:24: UserWarning: To copy construct from a tensor, it is recommended to use sourceTensor.clone().detach() or sourceTensor.clone().detach().requires_grad_(True), rather than torch.tensor(sourceTensor).\n"
     ]
    },
    {
     "name": "stdout",
     "output_type": "stream",
     "text": [
      "Net loss tensor(21.1095, grad_fn=<MeanBackward1>)\n",
      "Shape of Kalman gain torch.Size([7940, 100])\n"
     ]
    },
    {
     "name": "stderr",
     "output_type": "stream",
     "text": [
      "C:\\Users\\Krishnananda Prabhu\\Anaconda3\\lib\\site-packages\\ipykernel_launcher.py:23: UserWarning: To copy construct from a tensor, it is recommended to use sourceTensor.clone().detach() or sourceTensor.clone().detach().requires_grad_(True), rather than torch.tensor(sourceTensor).\n",
      "C:\\Users\\Krishnananda Prabhu\\Anaconda3\\lib\\site-packages\\ipykernel_launcher.py:24: UserWarning: To copy construct from a tensor, it is recommended to use sourceTensor.clone().detach() or sourceTensor.clone().detach().requires_grad_(True), rather than torch.tensor(sourceTensor).\n"
     ]
    },
    {
     "name": "stdout",
     "output_type": "stream",
     "text": [
      "Net loss tensor(10519.1387, grad_fn=<MeanBackward1>)\n"
     ]
    },
    {
     "ename": "RuntimeError",
     "evalue": "Lapack Error getrf : U(26,26) is 0, U is singular at c:\\a\\w\\1\\s\\tmp_conda_3.6_104352\\conda\\conda-bld\\pytorch_1550400396997\\work\\aten\\src\\th\\generic/THTensorLapack.cpp:555",
     "output_type": "error",
     "traceback": [
      "\u001b[1;31m---------------------------------------------------------------------------\u001b[0m",
      "\u001b[1;31mRuntimeError\u001b[0m                              Traceback (most recent call last)",
      "\u001b[1;32m<ipython-input-29-9f2551b3c752>\u001b[0m in \u001b[0;36m<module>\u001b[1;34m()\u001b[0m\n\u001b[0;32m     55\u001b[0m         \u001b[1;31m#print(\"Shape of Weight Grad Mat\", H)\u001b[0m\u001b[1;33m\u001b[0m\u001b[1;33m\u001b[0m\u001b[1;33m\u001b[0m\u001b[0m\n\u001b[0;32m     56\u001b[0m         \u001b[1;31m#update weights using EKF filter Update\u001b[0m\u001b[1;33m\u001b[0m\u001b[1;33m\u001b[0m\u001b[1;33m\u001b[0m\u001b[0m\n\u001b[1;32m---> 57\u001b[1;33m         \u001b[0mAk\u001b[0m \u001b[1;33m=\u001b[0m \u001b[0mtorch\u001b[0m\u001b[1;33m.\u001b[0m\u001b[0minverse\u001b[0m\u001b[1;33m(\u001b[0m\u001b[0mR\u001b[0m \u001b[1;33m+\u001b[0m \u001b[0mtorch\u001b[0m\u001b[1;33m.\u001b[0m\u001b[0mmm\u001b[0m\u001b[1;33m(\u001b[0m\u001b[0mtorch\u001b[0m\u001b[1;33m.\u001b[0m\u001b[0mmm\u001b[0m\u001b[1;33m(\u001b[0m\u001b[0mH\u001b[0m\u001b[1;33m,\u001b[0m \u001b[0mP\u001b[0m\u001b[1;33m)\u001b[0m\u001b[1;33m,\u001b[0m \u001b[0mtorch\u001b[0m\u001b[1;33m.\u001b[0m\u001b[0mtranspose\u001b[0m\u001b[1;33m(\u001b[0m\u001b[0mH\u001b[0m\u001b[1;33m,\u001b[0m\u001b[1;36m0\u001b[0m\u001b[1;33m,\u001b[0m\u001b[1;36m1\u001b[0m\u001b[1;33m)\u001b[0m\u001b[1;33m)\u001b[0m\u001b[1;33m)\u001b[0m\u001b[1;33m\u001b[0m\u001b[1;33m\u001b[0m\u001b[0m\n\u001b[0m\u001b[0;32m     58\u001b[0m         \u001b[1;31m#print(Ak)\u001b[0m\u001b[1;33m\u001b[0m\u001b[1;33m\u001b[0m\u001b[1;33m\u001b[0m\u001b[0m\n\u001b[0;32m     59\u001b[0m         \u001b[1;31m#Ak = torch.ones(1).view(1,1).to(device)\u001b[0m\u001b[1;33m\u001b[0m\u001b[1;33m\u001b[0m\u001b[1;33m\u001b[0m\u001b[0m\n",
      "\u001b[1;31mRuntimeError\u001b[0m: Lapack Error getrf : U(26,26) is 0, U is singular at c:\\a\\w\\1\\s\\tmp_conda_3.6_104352\\conda\\conda-bld\\pytorch_1550400396997\\work\\aten\\src\\th\\generic/THTensorLapack.cpp:555"
     ]
    }
   ],
   "source": [
    "#x_train = torch.tensor(x_train, device=device, dtype=torch.float64)\n",
    "#y_train = torch.tensor(y_train, device=device, dtype=torch.float64)\n",
    "\n",
    "#ceLoss = nn.MSELoss(reduction='none')\n",
    "\n",
    "# Plotting before learning \n",
    "#fig, ax = plt.subplots(1)\n",
    "#ax.plot(x_train.cpu().numpy(), y_train.cpu().numpy(), '.')\n",
    "\n",
    "n_epochs=10\n",
    "\n",
    "\n",
    "for epoch in range(n_epochs):\n",
    "    \n",
    "    #outputs = [] \n",
    "    #Calling Backward for each sample\n",
    "   \n",
    "    for i,(inputs,labels) in enumerate(trainloader,0):\n",
    "        loss=[]\n",
    "        H=[]\n",
    "        inputs, labels = inputs.to(device), labels.to(device)\n",
    "        #print(labels)\n",
    "        inputs= torch.tensor(inputs,device=device,dtype=torch.float32).view(-1,784)\n",
    "        labels= torch.tensor(labels,device=device,dtype=torch.long)\n",
    "        outputs = mlp_EKF(inputs)\n",
    "\n",
    "        #outputs.append(output)\n",
    "        #print(\"Update for Batch\",i)\n",
    "        mlp_EKF.zero_grad()\n",
    "        #print(label_vector)\n",
    "        #loss = criterion(outputs, labels)\n",
    "\n",
    "        for i in range(outputs.shape[0]):\n",
    "            label_vector=torch.zeros(outputs.shape[1]).to(device)\n",
    "            label_vector[labels]=1\n",
    "                \n",
    "            #print(outputs[i].shape)\n",
    "            #print(label_vector.shape)\n",
    "            err=cross_err_loss(outputs[i],label_vector)\n",
    "            #print(loss.size())\n",
    "            loss.append(err) \n",
    "            for j in range(err.shape[0]):\n",
    "                err[j].backward(retain_graph=True)\n",
    "        \n",
    "                H.append(getWeightsgrad(mlp_EKF).to(device).view(-1))\n",
    "                \n",
    "                \n",
    "        loss=torch.cat(loss).view(-1,1)\n",
    "        net_loss=torch.mean(loss)\n",
    "        print('Net loss',net_loss)\n",
    "        H=torch.stack(H,dim=0)\n",
    "#         print(loss.shape)\n",
    "#         print(H.size())\n",
    "#         print(P.size())\n",
    "        #print(\"Shape of Weight Grad Mat\", H)\n",
    "        #update weights using EKF filter Update\n",
    "        Ak = torch.inverse(R + torch.mm(torch.mm(H, P), torch.transpose(H,0,1)))\n",
    "        #print(Ak)\n",
    "        #Ak = torch.ones(1).view(1,1).to(device)\n",
    "        Kk = torch.mm(torch.mm(P, torch.transpose(H,0,1)), Ak)\n",
    "        \n",
    "        #Kk = torch.ones((120,1)).to(device)\n",
    "        #print(weight_mat.shape)\n",
    "        print(\"Shape of Kalman gain\",Kk.shape)\n",
    "        #print(\"Shape of loss\",loss.shape)\n",
    "        #print(\"Shape of mul term\",torch.mm(Kk, loss).shape)\n",
    "        #print(\"Weight Mat Shape\",weight_mat)\n",
    "        #print(loss)\n",
    "        weight_mat= getWeights(mlp_EKF).to(device)\n",
    "        weight_mat = weight_mat + torch.mm(Kk, loss)\n",
    "        #print(\"Weight Mat Shape\",weight_mat.shape)\n",
    "        P = P + Q - torch.mm(torch.mm(Kk,H),P)\n",
    "        setWeights(mlp_EKF,weight_mat)\n",
    "        \n",
    "    #print(\"Weight\",weight_mat)\n",
    "    #outputs = torch.cat(outputs, dim=0)\n",
    "    \n",
    "    #Plotting Output\n",
    "#     ax.clear()\n",
    "#     plt_x_train = inputs.cpu().detach().numpy()\n",
    "#     plt_y_train = y_train.cpu().detach().numpy()\n",
    "#     plt_outputs = outputs.cpu().detach().numpy()\n",
    "#     ax.plot(plt_x_train, plt_y_train, '.')\n",
    "#     ax.plot(plt_x_train, plt_outputs, 'r-')\n",
    "#     ax.grid(True)\n",
    "#     ax.set_title('Iteration %d/%d' % (epoch+1, n_epochs))\n",
    "    display.clear_output(wait=True)\n",
    "#     display.display(fig)\n",
    "#     plt.pause(0.005)\n",
    "    \n",
    "# display.clear_output(wait=True)"
   ]
  },
  {
   "cell_type": "markdown",
   "metadata": {},
   "source": [
    "# Appendix"
   ]
  },
  {
   "cell_type": "code",
   "execution_count": null,
   "metadata": {},
   "outputs": [],
   "source": []
  }
 ],
 "metadata": {
  "kernelspec": {
   "display_name": "Python 3",
   "language": "python",
   "name": "python3"
  },
  "language_info": {
   "codemirror_mode": {
    "name": "ipython",
    "version": 3
   },
   "file_extension": ".py",
   "mimetype": "text/x-python",
   "name": "python",
   "nbconvert_exporter": "python",
   "pygments_lexer": "ipython3",
   "version": "3.6.7"
  }
 },
 "nbformat": 4,
 "nbformat_minor": 2
}
